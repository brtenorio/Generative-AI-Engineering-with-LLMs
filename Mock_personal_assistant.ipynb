{
  "cells": [
    {
      "cell_type": "code",
      "execution_count": null,
      "metadata": {
        "id": "B9vy7f4AEtwp"
      },
      "outputs": [],
      "source": [
        "%%capture\n",
        "! pip install langchain-core langgraph>0.2.27\n",
        "! pip install anthropic\n",
        "! pip install langchain[anthropic]\n",
        "! pip install wikipedia\n",
        "! pip install mysql-connector-python\n",
        "! pip install pydantic_extra_types phonenumbers pydantic[email]"
      ]
    },
    {
      "cell_type": "code",
      "execution_count": null,
      "metadata": {
        "id": "jafNBgs66NrI"
      },
      "outputs": [],
      "source": [
        "%%capture\n",
        "! apt-get -y install mysql-server\n",
        "! service mysql start\n",
        "! mysql -e \"ALTER USER 'root'@'localhost' IDENTIFIED WITH 'mysql_native_password' BY 'mkdirTenorio';FLUSH PRIVILEGES;\""
      ]
    },
    {
      "cell_type": "markdown",
      "metadata": {
        "id": "isQiraIdOwtn"
      },
      "source": [
        "https://drlee.io/mysql-in-google-colab-a-seamless-integration-ab4bd47c419d"
      ]
    },
    {
      "cell_type": "markdown",
      "metadata": {
        "id": "U-i5q_-xFsOc"
      },
      "source": [
        "https://www.datacamp.com/tutorial/mysql-python"
      ]
    },
    {
      "cell_type": "code",
      "execution_count": null,
      "metadata": {
        "id": "as28O7zfK996"
      },
      "outputs": [],
      "source": [
        "# Setting Up MySQL on Google Colab (Terminal)\n",
        "\n",
        "# apt-get -y install mysql-server\n",
        "# service mysql start\n",
        "\n",
        "# Secure Your MySQL Installation. Here, we’re setting the root password as ‘root’.\n",
        "# mysql -e \"ALTER USER 'root'@'localhost' IDENTIFIED WITH 'mysql_native_password' BY 'mkdirTenorio';FLUSH PRIVILEGES;\"\n",
        "\n",
        "# If I want to connect to MySQL Server via its cli\n",
        "# mysql -u root -p\n",
        "\n",
        "\n",
        "# Use this command after insert, update, delete commands\n",
        "# conn.commit()"
      ]
    },
    {
      "cell_type": "code",
      "execution_count": null,
      "metadata": {
        "id": "37LAWJZCE1S7"
      },
      "outputs": [],
      "source": [
        "import getpass\n",
        "import os\n",
        "\n"
      ]
    },
    {
      "cell_type": "markdown",
      "metadata": {
        "id": "bAXect2JNoU5"
      },
      "source": [
        "## Access the database with python"
      ]
    },
    {
      "cell_type": "code",
      "execution_count": null,
      "metadata": {
        "id": "DtFHelzFM-tX"
      },
      "outputs": [],
      "source": [
        "import mysql.connector\n",
        "import pandas as pd\n",
        "\n",
        "# Functions to simplify connection with DB API and print table\n",
        "\n",
        "def create_connection():\n",
        "  return mysql.connector.connect(user='root', password='mkdirTenorio', host='localhost',database=\"contact_db\")\n"
      ]
    },
    {
      "cell_type": "code",
      "execution_count": null,
      "metadata": {
        "id": "WaHi-pREy0-Y"
      },
      "outputs": [],
      "source": []
    },
    {
      "cell_type": "code",
      "execution_count": null,
      "metadata": {
        "id": "PUYyPOb2NALa"
      },
      "outputs": [],
      "source": [
        "# Create a cursor to interact with the MySQL server\n",
        "conn = mysql.connector.connect(user='root', password='mkdirTenorio', host='localhost')\n",
        "cursor = conn.cursor()\n",
        "\n",
        "# Create a new database named 'contact_db' with cursor.execute()\n",
        "cursor.execute(\"CREATE DATABASE IF NOT EXISTS contact_db\")\n",
        "\n",
        "# Switch to the 'library' database\n",
        "cursor.execute(\"USE contact_db\")\n",
        "\n",
        "# To drop an existing table use:\n",
        "# DROP TABLE table_name;\n",
        "# cursor.execute(\"DROP TABLE contacts\")\n",
        "\n",
        "# Create the table\n",
        "cursor.execute('''\n",
        "    CREATE TABLE contacts (\n",
        "    id INT AUTO_INCREMENT PRIMARY KEY,\n",
        "    name VARCHAR(255) NOT NULL,\n",
        "    nickname VARCHAR(255) NULL,\n",
        "    phone_number VARCHAR(15) NOT NULL UNIQUE,\n",
        "    email VARCHAR(255) NULL UNIQUE)\n",
        "''')\n",
        "\n",
        "# Always remember to close the cursor and connection when done\n",
        "cursor.close()\n",
        "conn.close()"
      ]
    },
    {
      "cell_type": "code",
      "execution_count": null,
      "metadata": {
        "id": "ej7eAuYF2d7u"
      },
      "outputs": [],
      "source": [
        "# SHOW DATABASES;\n",
        "# SHOW TABLES;\n",
        "# DESCRIBE contacts;"
      ]
    },
    {
      "cell_type": "markdown",
      "metadata": {
        "id": "RPREoQAKi3ZF"
      },
      "source": [
        "Insert some examples in the table"
      ]
    },
    {
      "cell_type": "code",
      "execution_count": null,
      "metadata": {
        "id": "RH0isDqWiZmt"
      },
      "outputs": [],
      "source": [
        "# Create a cursor to interact with the MySQL server\n",
        "conn = create_connection()\n",
        "cursor = conn.cursor()\n",
        "\n",
        "# Insert Sample Data\n",
        "cursor.execute(\n",
        "    \"\"\"\n",
        "   INSERT INTO contacts (name, nickname, phone_number, email) VALUES\n",
        "   ('Ana Maria Braga', 'MaisVC', '+12124567890', 'anamaria@globo.com'),\n",
        "   ('Fausto Silva', 'Faustao', '+4530770800', 'fausto@globo.com'),\n",
        "   ('Charlie Brown Jr', NULL, '+4531230899', 'charlie@shaike.com'),\n",
        "   ('Thammy Gretchen', 'Carluxa', '+13105867367', 'tammy@example.com'),\n",
        "   ('Carlos Bolsonaro', 'Carluxo', '+4538770890', NULL)\n",
        "    \"\"\"\n",
        ")\n",
        "\n",
        "# Use this command after insert, update, delete commands\n",
        "conn.commit()\n",
        "\n",
        "# Always remember to close the cursor and connection when done\n",
        "cursor.close()\n",
        "conn.close()"
      ]
    },
    {
      "cell_type": "code",
      "execution_count": null,
      "metadata": {
        "colab": {
          "base_uri": "https://localhost:8080/"
        },
        "id": "p5QgVf8TFwIR",
        "outputId": "164fc77e-c07a-4e8a-f9ba-6e3d642a2336"
      },
      "outputs": [
        {
          "name": "stderr",
          "output_type": "stream",
          "text": [
            "<ipython-input-9-fddb406e7a12>:37: PydanticDeprecatedSince20: Pydantic V1 style `@root_validator` validators are deprecated. You should migrate to Pydantic V2 style `@model_validator` validators, see the migration guide for more details. Deprecated in Pydantic V2.0 to be removed in V3.0. See Pydantic V2 Migration Guide at https://errors.pydantic.dev/2.11/migration/\n",
            "  @root_validator(pre=True) # ensures that the user provides at least one valid field when creating an instance of the RemoveContactInput model.\n"
          ]
        }
      ],
      "source": [
        "from pydantic import BaseModel, Field, EmailStr, root_validator, validator\n",
        "from pydantic_extra_types.phone_numbers import PhoneNumber\n",
        "from typing import Any\n",
        "\n",
        "# Schema definition\n",
        "\n",
        "PhoneNumber.phone_format = 'E164' #'INTERNATIONAL', 'NATIONAL'\n",
        "\n",
        "class ContactInfoSchema(BaseModel):\n",
        "    id: int = Field(..., description=\"Unique id number of the contact.\") # required\n",
        "    name: str = Field(..., description=\"Name of the contact.\") # required\n",
        "    nickname: str | None = Field(description=\"Nickname of the contact.\", default=None) # optional param\n",
        "    phone_number: PhoneNumber = Field(..., description=\"Phone number of the contact.\")# required\n",
        "    email: EmailStr | None = Field(description=\"Email of the contact.\", default=None) # optional param\n",
        "\n",
        "# Validator used to check, add, or remove a contact.\n",
        "class CheckContactInput(BaseModel):\n",
        "    name: str | None = Field(description=\"Name of the contact.\", default=None)\n",
        "    nickname: str | None = Field(description=\"Nickname of the contact.\", default=None)\n",
        "    phone_number: PhoneNumber | None = Field(description=\"Phone number.\", default=None)\n",
        "    email: EmailStr | None = Field(description=\"Email of the contact.\", default=None)\n",
        "\n",
        "\n",
        "class AddContactInput(BaseModel):\n",
        "    name: str = Field(description=\"Name of the contact (required).\")\n",
        "    phone_number: PhoneNumber = Field(description=\"Phone number of the contact (required).\")\n",
        "    nickname: str | None = Field(description=\"Optional nickname for the contact.\", default=None)\n",
        "    email: EmailStr | None = Field(description=\"Optional email address for the contact.\", default=None)\n",
        "\n",
        "\n",
        "class RemoveContactInput(BaseModel):\n",
        "    name: str | None = Field(description=\"Name of the contact to remove.\", default=None)\n",
        "    phone_number: PhoneNumber | None = Field(description=\"Phone number of the contact to remove.\", default=None)\n",
        "    nickname: str | None = Field(description=\"Nickname of the contact to remove.\", default=None)\n",
        "    email: EmailStr | None = Field(description=\"Email of the contact to remove.\", default=None)\n",
        "\n",
        "    @root_validator(pre=True) # ensures that the user provides at least one valid field when creating an instance of the RemoveContactInput model.\n",
        "    def at_least_one_field(cls, values): # values is a dictionary passed to the model, ex: {\"name\": \"John Doe\", \"phone_number\": None, \"nickname\": None, \"email\": None}\n",
        "      if not any(values.values()): # values.values() -> dict_values(['John Doe', None, None, None]); any() -> True if at least one value is not None or empty string.\n",
        "          raise ValueError(\"At least one search parameter (name, phone_number, nickname, or email) must be provided\")\n",
        "      return values\n",
        "\n",
        "class EditContactInput(BaseModel):\n",
        "    current_name: str = Field(description=\"Current name of the contact to edit.\")\n",
        "    new_name: str | None = Field(description=\"New name for the contact.\", default=None)\n",
        "    nickname: str | None = Field(description=\"New nickname for the contact.\", default=None)\n",
        "    phone_number: PhoneNumber | None = Field(description=\"New phone number for the contact.\", default=None)\n",
        "    email: EmailStr | None = Field(description=\"New email for the contact.\", default=None)\n"
      ]
    },
    {
      "cell_type": "code",
      "execution_count": null,
      "metadata": {
        "id": "5oTlQqekKPlB"
      },
      "outputs": [],
      "source": [
        "from langchain.agents import tool\n",
        "\n",
        "# Functions definition\n",
        "\n",
        "@tool(args_schema=CheckContactInput)\n",
        "def check_contact(name: str = None, nickname: str = None, phone_number: PhoneNumber = None, email: EmailStr = None)->dict:\n",
        "    \"\"\"Use this function when you want to check the existance of a contact. This function dos not alter any contact information.\n",
        "    Trigger words: CHECK, VERIFY, SEARCH, SEE IF I HAVE A CONTACT.\n",
        "\n",
        "    Required: at least one of the fields (name, nickname, phone_number, or email)\n",
        "\n",
        "    Returns a dictionary with success status and message.\n",
        "    \"\"\"\n",
        "    # Verify at least one field was provided\n",
        "    if not any([name, nickname, phone_number, email]):\n",
        "        return {\"success\": False, \"message\": \"No contact information provided. Please specify at least one field to search for.\"}\n",
        "\n",
        "    # Update contact details\n",
        "    info = []\n",
        "    values = []\n",
        "    if name:\n",
        "        info.append(\"name = %s\")\n",
        "        values.append(name)\n",
        "    if nickname:\n",
        "        info.append(\"nickname = %s\")\n",
        "        values.append(nickname)\n",
        "    if phone_number:\n",
        "        info.append(\"phone_number = %s\")\n",
        "        values.append(phone_number)\n",
        "    if email:\n",
        "        info.append(\"email = %s\")\n",
        "        values.append(email)\n",
        "\n",
        "    conn = create_connection()\n",
        "    try:\n",
        "      check_query = f\"SELECT * FROM contacts WHERE {' OR '.join(info)} \"\n",
        "      with conn.cursor(dictionary=True) as cursor: # Set dictionary=True to fetch data as dict\n",
        "          cursor.execute(check_query, tuple(values))\n",
        "          result = cursor.fetchall()\n",
        "      if result:\n",
        "          # check output against ContactInfoSchema and return a dict\n",
        "          contact = ContactInfoSchema(**result[0])\n",
        "          contact = contact.model_dump()\n",
        "          output = {\"success\": True, \"message\": contact}\n",
        "          return output\n",
        "      else:\n",
        "          return  {\"success\": False, \"message\": \"You do not have a contact with the provided information.\"}\n",
        "\n",
        "    except Exception as e:\n",
        "        # Handle exceptions\n",
        "        if conn:\n",
        "            conn.rollback()\n",
        "        return {\"success\": False, \"message\": f\"Error checking for the contact: {str(e)}\"}\n",
        "    finally:\n",
        "        if conn:\n",
        "            conn.close()\n"
      ]
    },
    {
      "cell_type": "code",
      "execution_count": null,
      "metadata": {
        "id": "ICtLkpKSMJNR"
      },
      "outputs": [],
      "source": [
        "def print_contacts() -> None:\n",
        "  \"\"\"Function used to show/print the contacts list. This function is called every time a user asks to show the contacts\"\"\"\n",
        "\n",
        "  conn = create_connection()\n",
        "  with conn.cursor(dictionary=True) as cursor: # Set dictionary=True to fetch data as dict\n",
        "    cursor.execute(\"SELECT * FROM contacts\")\n",
        "\n",
        "    records = cursor.fetchall()\n",
        "\n",
        "    df = pd.DataFrame.from_dict(records)\n",
        "\n",
        "    print(df)\n"
      ]
    },
    {
      "cell_type": "code",
      "execution_count": null,
      "metadata": {
        "id": "OiWyTjarXXIZ"
      },
      "outputs": [],
      "source": [
        "@tool(args_schema=AddContactInput)\n",
        "def add_contact(name: str, phone_number: PhoneNumber = None, nickname: str = None, email: EmailStr = None) -> dict:\n",
        "    \"\"\"\n",
        "    Add or create a new contact to the database.\n",
        "\n",
        "    Use this function to create a new contact record. The contact will be checked to ensure it doesn't already exist.\n",
        "    Trigger words: ADD, CREATE, NEW\n",
        "\n",
        "    Required parameters:\n",
        "    - name: The contact's full name\n",
        "    - phone_number: A valid phone number\n",
        "\n",
        "    Optional parameters:\n",
        "    - nickname: An informal name for the contact\n",
        "    - email: The contact's email address\n",
        "\n",
        "    Returns a dictionary with success status and message.\n",
        "    \"\"\"\n",
        "    # Verify at least one search parameter was provided\n",
        "    if not name or not phone_number:\n",
        "      return {\"success\": False, \"message\": \"Both name and phone number are required to add a contact.\"}\n",
        "\n",
        "    #Verify if the contact exists.\n",
        "    contact_info_dict = CheckContactInput(name=name, nickname=nickname, phone_number=phone_number, email=email).model_dump()\n",
        "    cont_ckt = check_contact(contact_info_dict)\n",
        "\n",
        "    conn = create_connection()\n",
        "    try:\n",
        "      if cont_ckt.get(\"success\"):\n",
        "        return {\"success\": False, \"message\": \"Contact already exists\"}\n",
        "      else: # Add new contact\n",
        "        with conn.cursor() as cursor:\n",
        "          cursor.execute(\n",
        "            \"INSERT INTO contacts (name, nickname, phone_number, email) VALUES (%s, %s, %s, %s)\",\n",
        "            (name, nickname, phone_number, email)\n",
        "          )\n",
        "          conn.commit()\n",
        "        return {\"success\": True, \"message\": \"A new contact was added successfully.\"}\n",
        "    except Exception as e:\n",
        "        # Handle exceptions\n",
        "        if conn:\n",
        "            conn.rollback()\n",
        "        return {\"success\": False, \"message\": f\"Error checking for the contact: {str(e)}\"}\n",
        "    finally:\n",
        "        if conn:\n",
        "            conn.close()\n",
        "\n",
        "\n",
        "@tool(args_schema=RemoveContactInput)\n",
        "def remove_contact(name: str = None, nickname: str = None, phone_number: PhoneNumber = None, email: EmailStr = None) -> dict:\n",
        "    \"\"\"\n",
        "    Remove or delete an existing contact from the database.\n",
        "\n",
        "    Use this function to permanently delete a contact record. The contact will be identified by at least one field.\n",
        "    Trigger words: REMOVE, DELETE, ERASE\n",
        "\n",
        "    At least one of these parameters must be provided:\n",
        "    - name: The contact's full name\n",
        "    - nickname: The contact's nickname\n",
        "    - phone_number: The contact's phone number\n",
        "    - email: The contact's email address\n",
        "\n",
        "    Returns a dictionary with success status and message.\n",
        "    \"\"\"\n",
        "    # Verify at least one search parameter was provided\n",
        "    if not any([name, nickname, phone_number, email]):\n",
        "        return {\"success\": False, \"message\": \"At least one search parameter (name, phone_number, nickname, or email) must be provided.\"}\n",
        "\n",
        "    # Verify if contact exists\n",
        "    contact_info_dict = CheckContactInput(name=name, nickname=nickname, phone_number=phone_number, email=email).model_dump()\n",
        "    cont_ckt = check_contact(contact_info_dict)\n",
        "\n",
        "    conn = create_connection()\n",
        "    try:\n",
        "      if not cont_ckt.get(\"success\"):\n",
        "        return {\"success\": False, \"message\": \"Contact does not exist.\"}\n",
        "      else: # remove the contact\n",
        "        contact_index = cont_ckt[\"message\"].get(\"id\")\n",
        "        with conn.cursor() as cursor:\n",
        "          cursor.execute(\n",
        "            \"DELETE FROM contacts WHERE id=%s\",\n",
        "            (contact_index,)\n",
        "          )\n",
        "          conn.commit()\n",
        "        return {\"success\": True, \"message\": \"contact removed successfully.\"}\n",
        "    except Exception as e:\n",
        "        # Handle exceptions\n",
        "        if conn:\n",
        "            conn.rollback()\n",
        "        return {\"success\": False, \"message\": f\"Error checking for the contact: {str(e)}\"}\n",
        "    finally:\n",
        "        if conn:\n",
        "            conn.close()\n"
      ]
    },
    {
      "cell_type": "code",
      "execution_count": null,
      "metadata": {
        "id": "LAFXPtDjTb-p"
      },
      "outputs": [],
      "source": [
        "@tool(args_schema=EditContactInput)\n",
        "def edit_contact(current_name: str, new_name: str = None, nickname: str = None,\n",
        "                phone_number: PhoneNumber = None, email: EmailStr = None) -> dict:\n",
        "    \"\"\"\n",
        "    Edit an existing contact. This function updates information for a contact identified by their current name.\n",
        "\n",
        "    Use this function when you need to change contact details like name, nickname, phone number, or email.\n",
        "    Trigger words: CHANGE, EDIT, MODIFY, UPDATE\n",
        "\n",
        "    Required: current_name and at least one field to update (new_name, nickname, phone_number, or email)\n",
        "\n",
        "    Returns a dictionary with success status and message.\n",
        "    \"\"\"\n",
        "    # Verify at least one update field was provided\n",
        "    if not any([new_name, nickname, phone_number, email]):\n",
        "        return {\"success\": False, \"message\": \"No new contact information provided. Please specify at least one field to update.\"}\n",
        "\n",
        "    # Check if contact exists\n",
        "    conn = create_connection()\n",
        "    try:\n",
        "        with conn.cursor(dictionary=True) as cursor:\n",
        "            cursor.execute(\"SELECT id FROM contacts WHERE name = %s\", (current_name,))\n",
        "            contact = cursor.fetchone()\n",
        "\n",
        "            if not contact:\n",
        "                return {\"success\": False, \"message\": f\"Contact '{current_name}' does not exist.\"}\n",
        "\n",
        "            contact_id = contact[\"id\"]\n",
        "\n",
        "            # Build update query\n",
        "            updates = []\n",
        "            values = []\n",
        "            if new_name:\n",
        "                updates.append(\"name = %s\")\n",
        "                values.append(new_name)\n",
        "            if nickname:\n",
        "                updates.append(\"nickname = %s\")\n",
        "                values.append(nickname)\n",
        "            if phone_number:\n",
        "                updates.append(\"phone_number = %s\")\n",
        "                values.append(phone_number)\n",
        "            if email:\n",
        "                updates.append(\"email = %s\")\n",
        "                values.append(email)\n",
        "\n",
        "            # Add contact_id for the WHERE clause\n",
        "            values.append(contact_id)\n",
        "\n",
        "            # Execute update\n",
        "            update_query = f\"UPDATE contacts SET {', '.join(updates)} WHERE id = %s\"\n",
        "            cursor.execute(update_query, tuple(values))\n",
        "            conn.commit()\n",
        "\n",
        "            return {\n",
        "                \"success\": True,\n",
        "                \"message\": f\"Contact '{current_name}' updated successfully.\",\n",
        "                \"updated_fields\": len(updates)\n",
        "            }\n",
        "    except Exception as e:\n",
        "        # Handle exceptions\n",
        "        if conn:\n",
        "            conn.rollback()\n",
        "        return {\"success\": False, \"message\": f\"Error updating contact: {str(e)}\"}\n",
        "    finally:\n",
        "        if conn:\n",
        "            conn.close()"
      ]
    },
    {
      "cell_type": "markdown",
      "metadata": {
        "id": "92eTpF1OpgNp"
      },
      "source": [
        "## Edit some contacts"
      ]
    },
    {
      "cell_type": "code",
      "execution_count": null,
      "metadata": {
        "colab": {
          "base_uri": "https://localhost:8080/"
        },
        "id": "CYTBKsG2Ix3u",
        "outputId": "5f5af652-7793-472f-d0dd-3971bba02056"
      },
      "outputs": [
        {
          "name": "stdout",
          "output_type": "stream",
          "text": [
            "   id              name nickname  phone_number               email\n",
            "0   1   Ana Maria Braga   MaisVC  +12124567890  anamaria@globo.com\n",
            "1   2      Fausto Silva  Faustao   +4530770800    fausto@globo.com\n",
            "2   3  Charlie Brown Jr     None   +4531230899  charlie@shaike.com\n",
            "3   4   Thammy Gretchen  Carluxa  +13105867367   tammy@example.com\n",
            "4   5  Carlos Bolsonaro  Carluxo   +4538770890                None\n"
          ]
        }
      ],
      "source": [
        "print_contacts()"
      ]
    },
    {
      "cell_type": "markdown",
      "metadata": {
        "id": "0wwPSmgMIrU_"
      },
      "source": [
        "start with a check. Let us check if the contact with nickname Ali exist."
      ]
    },
    {
      "cell_type": "code",
      "execution_count": null,
      "metadata": {
        "colab": {
          "base_uri": "https://localhost:8080/"
        },
        "id": "bsvGm4rXSPvH",
        "outputId": "ec1200d0-b03c-451f-da04-e125bbb16c7a"
      },
      "outputs": [
        {
          "data": {
            "text/plain": [
              "CheckContactInput(name=None, nickname='MaisVC', phone_number=None, email=None)"
            ]
          },
          "execution_count": 15,
          "metadata": {},
          "output_type": "execute_result"
        }
      ],
      "source": [
        "contact_check = {\"nickname\":\"MaisVC\"}\n",
        "CheckContactInput(**contact_check)"
      ]
    },
    {
      "cell_type": "code",
      "execution_count": null,
      "metadata": {
        "colab": {
          "base_uri": "https://localhost:8080/"
        },
        "id": "NIAAHGPQSPaZ",
        "outputId": "c082ff82-1dee-4143-d441-f49e25330abb"
      },
      "outputs": [
        {
          "name": "stderr",
          "output_type": "stream",
          "text": [
            "<ipython-input-16-9e771af0ac86>:1: LangChainDeprecationWarning: The method `BaseTool.__call__` was deprecated in langchain-core 0.1.47 and will be removed in 1.0. Use :meth:`~invoke` instead.\n",
            "  cont_ckt = check_contact(contact_check)\n"
          ]
        },
        {
          "name": "stdout",
          "output_type": "stream",
          "text": [
            "{'success': True, 'message': {'id': 1, 'name': 'Ana Maria Braga', 'nickname': 'MaisVC', 'phone_number': '+12124567890', 'email': 'anamaria@globo.com'}} <class 'dict'>\n"
          ]
        }
      ],
      "source": [
        "cont_ckt = check_contact(contact_check)\n",
        "print(cont_ckt,type(cont_ckt))"
      ]
    },
    {
      "cell_type": "code",
      "execution_count": null,
      "metadata": {
        "colab": {
          "base_uri": "https://localhost:8080/"
        },
        "id": "Xeprqvh0JNZc",
        "outputId": "5d6f453f-e489-4ba7-f551-69be7f5bf520"
      },
      "outputs": [
        {
          "name": "stdout",
          "output_type": "stream",
          "text": [
            "{'success': False, 'message': 'No contact information provided. Please specify at least one field to search for.'} <class 'dict'>\n"
          ]
        }
      ],
      "source": [
        "contact_check = {}\n",
        "cont_ckt = check_contact(contact_check)\n",
        "print(cont_ckt,type(cont_ckt))"
      ]
    },
    {
      "cell_type": "code",
      "execution_count": null,
      "metadata": {
        "colab": {
          "base_uri": "https://localhost:8080/"
        },
        "id": "nt0TUTZ4iBYU",
        "outputId": "d39273f8-fa07-4f84-cdc4-4bbbcc6312aa"
      },
      "outputs": [
        {
          "name": "stdout",
          "output_type": "stream",
          "text": [
            "check_contact\n",
            "Use this function when you want to check the existance of a contact. This function dos not alter any contact information.\n",
            "    Trigger words: CHECK, VERIFY, SEARCH, SEE IF I HAVE A CONTACT.\n",
            "\n",
            "    Required: at least one of the fields (name, nickname, phone_number, or email)\n",
            "\n",
            "    Returns a dictionary with success status and message.\n",
            "{'name': {'anyOf': [{'type': 'string'}, {'type': 'null'}], 'default': None, 'description': 'Name of the contact.', 'title': 'Name'}, 'nickname': {'anyOf': [{'type': 'string'}, {'type': 'null'}], 'default': None, 'description': 'Nickname of the contact.', 'title': 'Nickname'}, 'phone_number': {'anyOf': [{'format': 'phone', 'type': 'string'}, {'type': 'null'}], 'default': None, 'description': 'Phone number.', 'title': 'Phone Number'}, 'email': {'anyOf': [{'format': 'email', 'type': 'string'}, {'type': 'null'}], 'default': None, 'description': 'Email of the contact.', 'title': 'Email'}}\n"
          ]
        }
      ],
      "source": [
        "print(check_contact.name)\n",
        "print(check_contact.description)\n",
        "print(check_contact.args)"
      ]
    },
    {
      "cell_type": "code",
      "execution_count": null,
      "metadata": {
        "id": "YfrX-gR_iBP9"
      },
      "outputs": [],
      "source": []
    },
    {
      "cell_type": "code",
      "execution_count": null,
      "metadata": {
        "id": "bsndNffYmIYS"
      },
      "outputs": [],
      "source": []
    },
    {
      "cell_type": "markdown",
      "metadata": {
        "id": "6aFSjx71qB5k"
      },
      "source": [
        "## Add, remove, edit a few contacts"
      ]
    },
    {
      "cell_type": "code",
      "execution_count": null,
      "metadata": {
        "colab": {
          "base_uri": "https://localhost:8080/"
        },
        "id": "Hig6mMFpJT0g",
        "outputId": "82b9c07a-57e2-4da2-f7f7-7bcff090801d"
      },
      "outputs": [
        {
          "name": "stdout",
          "output_type": "stream",
          "text": [
            "   id              name nickname  phone_number               email\n",
            "0   1   Ana Maria Braga   MaisVC  +12124567890  anamaria@globo.com\n",
            "1   2      Fausto Silva  Faustao   +4530770800    fausto@globo.com\n",
            "2   3  Charlie Brown Jr     None   +4531230899  charlie@shaike.com\n",
            "3   4   Thammy Gretchen  Carluxa  +13105867367   tammy@example.com\n",
            "4   5  Carlos Bolsonaro  Carluxo   +4538770890                None\n"
          ]
        }
      ],
      "source": [
        "print_contacts()"
      ]
    },
    {
      "cell_type": "markdown",
      "metadata": {
        "id": "oDMzbRfnJn_k"
      },
      "source": [
        "Let us add a new contact Ronaldo and Rony"
      ]
    },
    {
      "cell_type": "code",
      "execution_count": null,
      "metadata": {
        "colab": {
          "base_uri": "https://localhost:8080/"
        },
        "id": "r80E0lzbf78D",
        "outputId": "11e0915c-be02-4a84-e19b-485538782d19"
      },
      "outputs": [
        {
          "name": "stdout",
          "output_type": "stream",
          "text": [
            "{'name': 'Ronaldo', 'phone_number': '+15575867367', 'nickname': 'R9', 'email': None}\n"
          ]
        },
        {
          "data": {
            "text/plain": [
              "{'success': True, 'message': 'A new contact was added successfully.'}"
            ]
          },
          "execution_count": 20,
          "metadata": {},
          "output_type": "execute_result"
        }
      ],
      "source": [
        "# Adding a new contact\n",
        "\n",
        "# Prepare the input dictionary matching the args_schema\n",
        "contact_info = AddContactInput(name=\"Ronaldo\", nickname=\"R9\", phone_number=\"+15575867367\").model_dump()\n",
        "print(contact_info)\n",
        "\n",
        "# Call the add_contact tool with the input dictionary\n",
        "add_contact(contact_info)"
      ]
    },
    {
      "cell_type": "code",
      "execution_count": null,
      "metadata": {
        "colab": {
          "base_uri": "https://localhost:8080/"
        },
        "id": "6JP8prYKblhx",
        "outputId": "c19a23c8-fc7d-444e-ed43-54601b1c32af"
      },
      "outputs": [
        {
          "name": "stdout",
          "output_type": "stream",
          "text": [
            "{'name': 'Rony Rustico', 'phone_number': '+15574067671', 'nickname': 'Rony', 'email': None}\n"
          ]
        },
        {
          "data": {
            "text/plain": [
              "{'success': True, 'message': 'A new contact was added successfully.'}"
            ]
          },
          "execution_count": 21,
          "metadata": {},
          "output_type": "execute_result"
        }
      ],
      "source": [
        "# Prepare the input dictionary matching the args_schema\n",
        "contact_info = AddContactInput(name=\"Rony Rustico\", nickname=\"Rony\", phone_number=\"+15574067671\").model_dump()\n",
        "print(contact_info)\n",
        "\n",
        "# Call the add_contact tool with the input dictionary\n",
        "add_contact(contact_info)"
      ]
    },
    {
      "cell_type": "code",
      "execution_count": null,
      "metadata": {
        "colab": {
          "base_uri": "https://localhost:8080/"
        },
        "id": "TV5HS7-xWkJm",
        "outputId": "0e9b7fd7-0eb5-452c-c02d-8840d6572e07"
      },
      "outputs": [
        {
          "name": "stdout",
          "output_type": "stream",
          "text": [
            "   id              name nickname  phone_number               email\n",
            "0   1   Ana Maria Braga   MaisVC  +12124567890  anamaria@globo.com\n",
            "1   2      Fausto Silva  Faustao   +4530770800    fausto@globo.com\n",
            "2   3  Charlie Brown Jr     None   +4531230899  charlie@shaike.com\n",
            "3   4   Thammy Gretchen  Carluxa  +13105867367   tammy@example.com\n",
            "4   5  Carlos Bolsonaro  Carluxo   +4538770890                None\n",
            "5   6           Ronaldo       R9  +15575867367                None\n",
            "6   7      Rony Rustico     Rony  +15574067671                None\n"
          ]
        }
      ],
      "source": [
        "print_contacts()"
      ]
    },
    {
      "cell_type": "markdown",
      "metadata": {
        "id": "DysiuaoNJga-"
      },
      "source": [
        "Let us now change the nickname of Rony and add an email."
      ]
    },
    {
      "cell_type": "code",
      "execution_count": null,
      "metadata": {
        "colab": {
          "base_uri": "https://localhost:8080/"
        },
        "id": "NhBhg8V8Jfuj",
        "outputId": "fd679e08-26a7-4bd2-a589-7e293b798457"
      },
      "outputs": [
        {
          "name": "stdout",
          "output_type": "stream",
          "text": [
            "{'current_name': 'Rony Rustico', 'new_name': None, 'nickname': 'Rony', 'phone_number': None, 'email': 'rustico@uol.com.br'}\n"
          ]
        }
      ],
      "source": [
        "# Edit an existing contact\n",
        "\n",
        "contact_info = EditContactInput(current_name='Rony Rustico', nickname=\"Rony\", email=\"rustico@uol.com.br\").model_dump()\n",
        "print(contact_info)"
      ]
    },
    {
      "cell_type": "code",
      "execution_count": null,
      "metadata": {
        "colab": {
          "base_uri": "https://localhost:8080/"
        },
        "id": "7FpWHZe6Jfqp",
        "outputId": "d1b52b20-d0b3-4892-d03f-53de51379a2d"
      },
      "outputs": [
        {
          "name": "stdout",
          "output_type": "stream",
          "text": [
            "   id              name nickname  phone_number               email\n",
            "0   1   Ana Maria Braga   MaisVC  +12124567890  anamaria@globo.com\n",
            "1   2      Fausto Silva  Faustao   +4530770800    fausto@globo.com\n",
            "2   3  Charlie Brown Jr     None   +4531230899  charlie@shaike.com\n",
            "3   4   Thammy Gretchen  Carluxa  +13105867367   tammy@example.com\n",
            "4   5  Carlos Bolsonaro  Carluxo   +4538770890                None\n",
            "5   6           Ronaldo       R9  +15575867367                None\n",
            "6   7      Rony Rustico     Rony  +15574067671  rustico@uol.com.br\n"
          ]
        }
      ],
      "source": [
        "# Editing a contact\n",
        "edit_contact(contact_info)\n",
        "\n",
        "print_contacts()"
      ]
    },
    {
      "cell_type": "code",
      "execution_count": null,
      "metadata": {
        "id": "Rw6FuAH0Jfl9"
      },
      "outputs": [],
      "source": []
    },
    {
      "cell_type": "markdown",
      "metadata": {
        "id": "gRmxa9Y1J5Tl"
      },
      "source": [
        "Removing a existing contact. Now remove Rony Rustico"
      ]
    },
    {
      "cell_type": "code",
      "execution_count": null,
      "metadata": {
        "colab": {
          "base_uri": "https://localhost:8080/"
        },
        "id": "V7-ykrndkmSs",
        "outputId": "9e5e858c-120b-4dde-b441-2fbe64c7c5a7"
      },
      "outputs": [
        {
          "name": "stdout",
          "output_type": "stream",
          "text": [
            "{'name': None, 'phone_number': None, 'nickname': 'Rony', 'email': None}\n"
          ]
        }
      ],
      "source": [
        "# Removing a existing contact\n",
        "\n",
        "# Prepare the input dictionary matching the args_schema\n",
        "contact_info = RemoveContactInput(nickname=\"Rony\").model_dump()\n",
        "print(contact_info)\n"
      ]
    },
    {
      "cell_type": "code",
      "execution_count": null,
      "metadata": {
        "colab": {
          "base_uri": "https://localhost:8080/"
        },
        "id": "GDh_jqGxgiv-",
        "outputId": "4e74dceb-563a-4c7d-b107-3c468daf3bbe"
      },
      "outputs": [
        {
          "name": "stdout",
          "output_type": "stream",
          "text": [
            "{'success': True, 'message': 'contact removed successfully.'}\n",
            "   id              name nickname  phone_number               email\n",
            "0   1   Ana Maria Braga   MaisVC  +12124567890  anamaria@globo.com\n",
            "1   2      Fausto Silva  Faustao   +4530770800    fausto@globo.com\n",
            "2   3  Charlie Brown Jr     None   +4531230899  charlie@shaike.com\n",
            "3   4   Thammy Gretchen  Carluxa  +13105867367   tammy@example.com\n",
            "4   5  Carlos Bolsonaro  Carluxo   +4538770890                None\n",
            "5   6           Ronaldo       R9  +15575867367                None\n"
          ]
        }
      ],
      "source": [
        "# Call the add_contact tool with the input dictionary\n",
        "print(remove_contact(contact_info))\n",
        "\n",
        "print_contacts()"
      ]
    },
    {
      "cell_type": "markdown",
      "metadata": {
        "id": "1dZztQ6un4UC"
      },
      "source": [
        "---"
      ]
    },
    {
      "cell_type": "markdown",
      "metadata": {
        "id": "w-tggf-SKg8o"
      },
      "source": [
        "# Let us create the LLM agents! 🤖 🚀"
      ]
    },
    {
      "cell_type": "code",
      "execution_count": null,
      "metadata": {
        "id": "XN_0X-aoKHGz"
      },
      "outputs": [],
      "source": [
        "import anthropic\n",
        "\n",
        "# Initialize the Claude client. It initializes a new client object from the Anthropic Python SDK\n",
        "client = anthropic.Anthropic()\n",
        "model = \"claude-3-7-sonnet-20250219\""
      ]
    },
    {
      "cell_type": "code",
      "execution_count": null,
      "metadata": {
        "colab": {
          "base_uri": "https://localhost:8080/"
        },
        "id": "QxPCnDhX_e-H",
        "outputId": "e1d24709-1f7f-49ea-a54f-d582f4077bbc"
      },
      "outputs": [
        {
          "data": {
            "text/plain": [
              "[{'name': 'check_contact',\n",
              "  'input_schema': {'properties': {'name': {'anyOf': [{'type': 'string'},\n",
              "      {'type': 'null'}],\n",
              "     'default': None,\n",
              "     'description': 'Name of the contact.'},\n",
              "    'nickname': {'anyOf': [{'type': 'string'}, {'type': 'null'}],\n",
              "     'default': None,\n",
              "     'description': 'Nickname of the contact.'},\n",
              "    'phone_number': {'anyOf': [{'format': 'phone', 'type': 'string'},\n",
              "      {'type': 'null'}],\n",
              "     'default': None,\n",
              "     'description': 'Phone number.'},\n",
              "    'email': {'anyOf': [{'format': 'email', 'type': 'string'},\n",
              "      {'type': 'null'}],\n",
              "     'default': None,\n",
              "     'description': 'Email of the contact.'}},\n",
              "   'type': 'object'},\n",
              "  'description': 'Use this function when you want to check the existance of a contact. This function dos not alter any contact information.\\n    Trigger words: CHECK, VERIFY, SEARCH, SEE IF I HAVE A CONTACT.\\n\\n    Required: at least one of the fields (name, nickname, phone_number, or email)\\n\\n    Returns a dictionary with success status and message.'},\n",
              " {'name': 'add_contact',\n",
              "  'input_schema': {'properties': {'name': {'description': 'Name of the contact (required).',\n",
              "     'type': 'string'},\n",
              "    'phone_number': {'description': 'Phone number of the contact (required).',\n",
              "     'format': 'phone',\n",
              "     'type': 'string'},\n",
              "    'nickname': {'anyOf': [{'type': 'string'}, {'type': 'null'}],\n",
              "     'default': None,\n",
              "     'description': 'Optional nickname for the contact.'},\n",
              "    'email': {'anyOf': [{'format': 'email', 'type': 'string'},\n",
              "      {'type': 'null'}],\n",
              "     'default': None,\n",
              "     'description': 'Optional email address for the contact.'}},\n",
              "   'required': ['name', 'phone_number'],\n",
              "   'type': 'object'},\n",
              "  'description': \"Add or create a new contact to the database.\\n\\nUse this function to create a new contact record. The contact will be checked to ensure it doesn't already exist.\\nTrigger words: ADD, CREATE, NEW\\n\\nRequired parameters:\\n- name: The contact's full name\\n- phone_number: A valid phone number\\n\\nOptional parameters:\\n- nickname: An informal name for the contact\\n- email: The contact's email address\\n\\nReturns a dictionary with success status and message.\"},\n",
              " {'name': 'remove_contact',\n",
              "  'input_schema': {'properties': {'name': {'anyOf': [{'type': 'string'},\n",
              "      {'type': 'null'}],\n",
              "     'default': None,\n",
              "     'description': 'Name of the contact to remove.'},\n",
              "    'phone_number': {'anyOf': [{'format': 'phone', 'type': 'string'},\n",
              "      {'type': 'null'}],\n",
              "     'default': None,\n",
              "     'description': 'Phone number of the contact to remove.'},\n",
              "    'nickname': {'anyOf': [{'type': 'string'}, {'type': 'null'}],\n",
              "     'default': None,\n",
              "     'description': 'Nickname of the contact to remove.'},\n",
              "    'email': {'anyOf': [{'format': 'email', 'type': 'string'},\n",
              "      {'type': 'null'}],\n",
              "     'default': None,\n",
              "     'description': 'Email of the contact to remove.'}},\n",
              "   'type': 'object'},\n",
              "  'description': \"Remove or delete an existing contact from the database.\\n\\nUse this function to permanently delete a contact record. The contact will be identified by at least one field.\\nTrigger words: REMOVE, DELETE, ERASE\\n\\nAt least one of these parameters must be provided:\\n- name: The contact's full name\\n- nickname: The contact's nickname\\n- phone_number: The contact's phone number\\n- email: The contact's email address\\n\\nReturns a dictionary with success status and message.\"},\n",
              " {'name': 'edit_contact',\n",
              "  'input_schema': {'properties': {'current_name': {'description': 'Current name of the contact to edit.',\n",
              "     'type': 'string'},\n",
              "    'new_name': {'anyOf': [{'type': 'string'}, {'type': 'null'}],\n",
              "     'default': None,\n",
              "     'description': 'New name for the contact.'},\n",
              "    'nickname': {'anyOf': [{'type': 'string'}, {'type': 'null'}],\n",
              "     'default': None,\n",
              "     'description': 'New nickname for the contact.'},\n",
              "    'phone_number': {'anyOf': [{'format': 'phone', 'type': 'string'},\n",
              "      {'type': 'null'}],\n",
              "     'default': None,\n",
              "     'description': 'New phone number for the contact.'},\n",
              "    'email': {'anyOf': [{'format': 'email', 'type': 'string'},\n",
              "      {'type': 'null'}],\n",
              "     'default': None,\n",
              "     'description': 'New email for the contact.'}},\n",
              "   'required': ['current_name'],\n",
              "   'type': 'object'},\n",
              "  'description': 'Edit an existing contact. This function updates information for a contact identified by their current name.\\n\\nUse this function when you need to change contact details like name, nickname, phone number, or email.\\nTrigger words: CHANGE, EDIT, MODIFY, UPDATE\\n\\nRequired: current_name and at least one field to update (new_name, nickname, phone_number, or email)\\n\\nReturns a dictionary with success status and message.'}]"
            ]
          },
          "execution_count": 28,
          "metadata": {},
          "output_type": "execute_result"
        }
      ],
      "source": [
        "from langchain_anthropic.chat_models import convert_to_anthropic_tool\n",
        "\n",
        "tools_box = [check_contact,add_contact,remove_contact,edit_contact]\n",
        "tools = [convert_to_anthropic_tool(t) for t in tools_box]\n",
        "\n",
        "#tools.append(print_contacts_tool)\n",
        "\n",
        "tools"
      ]
    },
    {
      "cell_type": "code",
      "execution_count": null,
      "metadata": {
        "id": "VRSytUlNLmSU"
      },
      "outputs": [],
      "source": [
        "from langchain_anthropic import ChatAnthropic\n",
        "\n",
        "llm = ChatAnthropic(\n",
        "    model=model,\n",
        "    temperature=0,\n",
        "    max_tokens=1024,\n",
        "    timeout=None,\n",
        "    max_retries=2,\n",
        "    # api_key=\"...\",\n",
        "    # base_url=\"...\",\n",
        "    # other params...\n",
        ")\n",
        "\n",
        "chatmodel = llm.bind(tools=tools)"
      ]
    },
    {
      "cell_type": "code",
      "execution_count": null,
      "metadata": {
        "id": "dgxdcYVPLmPe"
      },
      "outputs": [],
      "source": [
        "from langchain_anthropic.output_parsers import ToolsOutputParser\n",
        "from langchain.prompts import ChatPromptTemplate\n",
        "\n",
        "prompt = ChatPromptTemplate.from_messages([\n",
        "    (\"system\", \"You are helpful but sassy personal assistant. You must be able to excecute tasks related to managing contact information for the user such as verify, create, delete, or edit a contact information like phone number, email, etc.\"),\n",
        "    (\"user\", \"{input}\"),\n",
        "])\n",
        "\n",
        "chain = prompt | chatmodel | ToolsOutputParser() # you can use args_only=True to return only the args, or pydantic_schemas"
      ]
    },
    {
      "cell_type": "code",
      "execution_count": null,
      "metadata": {
        "colab": {
          "base_uri": "https://localhost:8080/"
        },
        "id": "tmdDrrE2LmL2",
        "outputId": "c790f29b-2594-4f62-d7d1-031184b0424b"
      },
      "outputs": [
        {
          "name": "stdout",
          "output_type": "stream",
          "text": [
            "[{'name': 'check_contact', 'args': {'name': 'Charlie Brown'}, 'id': 'toolu_01Ah5LwhijpKEYWZczwJyT3V', 'type': 'tool_call', 'index': 1}]\n"
          ]
        }
      ],
      "source": [
        "message = chain.invoke({\"input\": \"Hi! Do I have a conact named Charlie Brown?\"})\n",
        "\n",
        "print(message)"
      ]
    },
    {
      "cell_type": "code",
      "execution_count": null,
      "metadata": {
        "colab": {
          "base_uri": "https://localhost:8080/"
        },
        "id": "f8PXpxFeRpu6",
        "outputId": "748b7ea8-1ada-4bee-eaf9-7d06ee0b02f0"
      },
      "outputs": [
        {
          "name": "stdout",
          "output_type": "stream",
          "text": [
            "[{'name': 'remove_contact', 'args': {'name': 'Charlie Brown'}, 'id': 'toolu_018mg3BYkXGE1RJvtogZhpBX', 'type': 'tool_call', 'index': 1}]\n"
          ]
        }
      ],
      "source": [
        "message2 = chain.invoke({\"input\": \"Hi! Please delete the contact named Charlie Brown.\"})\n",
        "\n",
        "print(message2)"
      ]
    },
    {
      "cell_type": "code",
      "execution_count": null,
      "metadata": {
        "colab": {
          "base_uri": "https://localhost:8080/"
        },
        "id": "ZSDByyCMZ719",
        "outputId": "6adb1149-a65a-48ce-85b6-a51eb73825ab"
      },
      "outputs": [
        {
          "name": "stdout",
          "output_type": "stream",
          "text": [
            "[{'name': 'edit_contact', 'args': {'current_name': 'Charlie Brown', 'email': 'charlie@ig.com.br'}, 'id': 'toolu_011yUw6x6YtrUpUnvwbKuW3d', 'type': 'tool_call', 'index': 1}]\n"
          ]
        }
      ],
      "source": [
        "message3 = chain.invoke({\"input\": \"Hi! Please modify the email of the contact named Charlie Brown to charlie@ig.com.br.\"})\n",
        "\n",
        "print(message3)"
      ]
    },
    {
      "cell_type": "code",
      "execution_count": null,
      "metadata": {
        "colab": {
          "base_uri": "https://localhost:8080/"
        },
        "id": "kHgQV0ZgLmEQ",
        "outputId": "5e3cb6b1-84bb-44fe-ce84-5522fc40a73b"
      },
      "outputs": [
        {
          "name": "stdout",
          "output_type": "stream",
          "text": [
            "[]\n"
          ]
        }
      ],
      "source": [
        "message = chain.invoke({\"input\": \"Hi!\"})\n",
        "\n",
        "print(message)"
      ]
    },
    {
      "cell_type": "code",
      "execution_count": null,
      "metadata": {
        "id": "0aXfRY2-Or8Q"
      },
      "outputs": [],
      "source": [
        "def route(result):\n",
        "    if not result:\n",
        "        return print(\"No tools selected\")\n",
        "    else:\n",
        "        tools = {\n",
        "            \"check_contact\": check_contact,\n",
        "            \"add_contact\": add_contact,\n",
        "            \"remove_contact\": remove_contact,\n",
        "            \"edit_contact\": edit_contact,\n",
        "        }\n",
        "        return tools[result[0][\"name\"]].run(result[0][\"args\"])"
      ]
    },
    {
      "cell_type": "code",
      "execution_count": null,
      "metadata": {
        "id": "BKERYvTLPq7U"
      },
      "outputs": [],
      "source": [
        "chain_route = prompt | chatmodel | ToolsOutputParser() | route"
      ]
    },
    {
      "cell_type": "code",
      "execution_count": null,
      "metadata": {
        "colab": {
          "base_uri": "https://localhost:8080/"
        },
        "id": "tRvn6B9nPugc",
        "outputId": "1c79d701-8cd0-47b9-9c9c-7bbe3077b36f"
      },
      "outputs": [
        {
          "name": "stdout",
          "output_type": "stream",
          "text": [
            "No tools selected\n",
            "None\n"
          ]
        }
      ],
      "source": [
        "message = chain_route.invoke({\"input\": \"Hi!\"})\n",
        "\n",
        "print(message)"
      ]
    },
    {
      "cell_type": "code",
      "execution_count": null,
      "metadata": {
        "colab": {
          "base_uri": "https://localhost:8080/"
        },
        "id": "PK9-wkVjPyFH",
        "outputId": "16276bed-f957-4079-c040-f53dd73e5316"
      },
      "outputs": [
        {
          "name": "stdout",
          "output_type": "stream",
          "text": [
            "{'success': True, 'message': {'id': 2, 'name': 'Fausto Silva', 'nickname': 'Faustao', 'phone_number': '+4530770800', 'email': 'fausto@globo.com'}}\n"
          ]
        }
      ],
      "source": [
        "message1 = chain_route.invoke({\"input\": \"Hi! Do I have a conact named Fausto Silva?\"})\n",
        "\n",
        "print(message1)"
      ]
    },
    {
      "cell_type": "code",
      "execution_count": null,
      "metadata": {
        "colab": {
          "base_uri": "https://localhost:8080/"
        },
        "id": "FsWr13JtS7y3",
        "outputId": "36a4e64d-2ffd-416b-fbc5-075aac985830"
      },
      "outputs": [
        {
          "name": "stdout",
          "output_type": "stream",
          "text": [
            "{'success': False, 'message': 'Contact already exists'}\n"
          ]
        }
      ],
      "source": [
        "message3 = chain_route.invoke({\"input\": \"please create a contact Charlie Brown Jr with nickname Chuck and phone number +4531230899\"})\n",
        "\n",
        "print(message3)"
      ]
    },
    {
      "cell_type": "code",
      "execution_count": null,
      "metadata": {
        "colab": {
          "base_uri": "https://localhost:8080/"
        },
        "id": "lwrpEMDVRczQ",
        "outputId": "ce8794f0-bc23-462f-b907-2b78dec7cbe9"
      },
      "outputs": [
        {
          "name": "stdout",
          "output_type": "stream",
          "text": [
            "   id              name nickname  phone_number               email\n",
            "0   1   Ana Maria Braga   MaisVC  +12124567890  anamaria@globo.com\n",
            "1   2      Fausto Silva  Faustao   +4530770800    fausto@globo.com\n",
            "2   3  Charlie Brown Jr     None   +4531230899  charlie@shaike.com\n",
            "3   4   Thammy Gretchen  Carluxa  +13105867367   tammy@example.com\n",
            "4   5  Carlos Bolsonaro  Carluxo   +4538770890                None\n",
            "5   6           Ronaldo       R9  +15575867367                None\n"
          ]
        }
      ],
      "source": [
        "print_contacts()"
      ]
    },
    {
      "cell_type": "code",
      "execution_count": null,
      "metadata": {
        "colab": {
          "base_uri": "https://localhost:8080/"
        },
        "id": "UjRA90OYYnbA",
        "outputId": "89fdc435-06b0-49c0-9553-e0884ada6508"
      },
      "outputs": [
        {
          "name": "stdout",
          "output_type": "stream",
          "text": [
            "{'success': True, 'message': 'contact removed successfully.'}\n"
          ]
        }
      ],
      "source": [
        "message13 = chain_route.invoke({\"input\": \"remove the conact named Charlie Brown Jr\"})\n",
        "\n",
        "print(message13)"
      ]
    },
    {
      "cell_type": "code",
      "execution_count": null,
      "metadata": {
        "colab": {
          "base_uri": "https://localhost:8080/"
        },
        "id": "Si3to8RJYppF",
        "outputId": "3b279448-4c92-4472-8531-d58c3a45f7db"
      },
      "outputs": [
        {
          "name": "stdout",
          "output_type": "stream",
          "text": [
            "   id              name nickname  phone_number               email\n",
            "0   1   Ana Maria Braga   MaisVC  +12124567890  anamaria@globo.com\n",
            "1   2      Fausto Silva  Faustao   +4530770800    fausto@globo.com\n",
            "2   4   Thammy Gretchen  Carluxa  +13105867367   tammy@example.com\n",
            "3   5  Carlos Bolsonaro  Carluxo   +4538770890                None\n",
            "4   6           Ronaldo       R9  +15575867367                None\n"
          ]
        }
      ],
      "source": [
        "print_contacts()"
      ]
    },
    {
      "cell_type": "markdown",
      "metadata": {
        "id": "C3M3P9nKY3Ds"
      },
      "source": [
        "Test some contact editing."
      ]
    },
    {
      "cell_type": "code",
      "execution_count": null,
      "metadata": {
        "colab": {
          "base_uri": "https://localhost:8080/"
        },
        "id": "lnEUk5SGY2R_",
        "outputId": "951d5a58-04ef-4fff-8257-85e729768cbe"
      },
      "outputs": [
        {
          "name": "stdout",
          "output_type": "stream",
          "text": [
            "{'success': True, 'message': 'A new contact was added successfully.'}\n"
          ]
        }
      ],
      "source": [
        "message13 = chain_route.invoke({\"input\": \"create a contact named Rony Rustico, nickname Rony, phone number +4538711490\"})\n",
        "\n",
        "print(message13)"
      ]
    },
    {
      "cell_type": "code",
      "execution_count": null,
      "metadata": {
        "colab": {
          "base_uri": "https://localhost:8080/"
        },
        "id": "iQIGWxwqZSyt",
        "outputId": "23b43260-6a08-4135-8627-8a7df0553968"
      },
      "outputs": [
        {
          "name": "stdout",
          "output_type": "stream",
          "text": [
            "{'success': True, 'message': \"Contact 'Rony Rustico' updated successfully.\", 'updated_fields': 1}\n"
          ]
        }
      ],
      "source": [
        "message5 = chain_route.invoke({\"input\": \"modify the email of the contact named Rony Rustico to rony.rustico@uol.com\"})\n",
        "\n",
        "print(message5)"
      ]
    },
    {
      "cell_type": "code",
      "execution_count": null,
      "metadata": {
        "colab": {
          "base_uri": "https://localhost:8080/"
        },
        "id": "G6KLejkOhMs5",
        "outputId": "6f9b5b12-30a8-467d-9290-643477260bb1"
      },
      "outputs": [
        {
          "name": "stdout",
          "output_type": "stream",
          "text": [
            "   id              name nickname  phone_number                 email\n",
            "0   1   Ana Maria Braga   MaisVC  +12124567890    anamaria@globo.com\n",
            "1   2      Fausto Silva  Faustao   +4530770800      fausto@globo.com\n",
            "2   4   Thammy Gretchen  Carluxa  +13105867367     tammy@example.com\n",
            "3   5  Carlos Bolsonaro  Carluxo   +4538770890                  None\n",
            "4   6           Ronaldo       R9  +15575867367                  None\n",
            "5   8      Rony Rustico     Rony   +4538711490  rony.rustico@uol.com\n"
          ]
        }
      ],
      "source": [
        "print_contacts()"
      ]
    },
    {
      "cell_type": "code",
      "execution_count": null,
      "metadata": {
        "colab": {
          "base_uri": "https://localhost:8080/"
        },
        "id": "c-AT-724hkPq",
        "outputId": "f1b8f211-3c87-4c70-fb96-6c126cb4fae4"
      },
      "outputs": [
        {
          "name": "stdout",
          "output_type": "stream",
          "text": [
            "{'success': True, 'message': \"Contact 'Ronaldo' updated successfully.\", 'updated_fields': 1}\n",
            "   id              name nickname  phone_number                 email\n",
            "0   1   Ana Maria Braga   MaisVC  +12124567890    anamaria@globo.com\n",
            "1   2      Fausto Silva  Faustao   +4530770800      fausto@globo.com\n",
            "2   4   Thammy Gretchen  Carluxa  +13105867367     tammy@example.com\n",
            "3   5  Carlos Bolsonaro  Carluxo   +4538770890                  None\n",
            "4   6           Ronaldo       R9  +15575867367   fifathebest@uol.com\n",
            "5   8      Rony Rustico     Rony   +4538711490  rony.rustico@uol.com\n"
          ]
        }
      ],
      "source": [
        "message7 = chain_route.invoke({\"input\": \"modify the email of the contact name Ronaldo fifathebest@uol.com\"})\n",
        "\n",
        "print(message7)\n",
        "\n",
        "print_contacts()"
      ]
    },
    {
      "cell_type": "code",
      "execution_count": null,
      "metadata": {
        "id": "BVvbYGAyTg3X"
      },
      "outputs": [],
      "source": []
    },
    {
      "cell_type": "code",
      "execution_count": null,
      "metadata": {
        "id": "JReGbZ0LTgpk"
      },
      "outputs": [],
      "source": []
    },
    {
      "cell_type": "markdown",
      "metadata": {
        "id": "U73nTA4R2915"
      },
      "source": [
        "# ✅ Now create a conversational chatbot with memory. 🧠 🤖"
      ]
    },
    {
      "cell_type": "markdown",
      "metadata": {
        "id": "fJeO4pk3TkrH"
      },
      "source": [
        "In this section I will also replace `ToolsOutputParser` by `ToolsAgentOutputParser` for better handling the chain response."
      ]
    },
    {
      "cell_type": "code",
      "execution_count": null,
      "metadata": {
        "id": "2OwlDjwQ3e-E"
      },
      "outputs": [],
      "source": [
        "from langchain_anthropic.output_parsers import ToolsOutputParser\n",
        "from langchain.prompts import ChatPromptTemplate\n",
        "from langchain.prompts import MessagesPlaceholder\n",
        "\n",
        "prompt = ChatPromptTemplate.from_messages([\n",
        "    (\"system\", \"You are helpful assistant named Wesley Safadão. our task is to manage contact information for the user such as verify, create, delete, or edit a contact informations like contacts name, phone number, email, etc. Keep your answers short.\"),\n",
        "    (\"user\", \"{input}\"),\n",
        "    MessagesPlaceholder(variable_name=\"agent_scratchpad\")\n",
        "])\n",
        "\n",
        "from langchain.agents.output_parsers.tools import ToolsAgentOutputParser # instead of simpler ToolsOutputParser()\n",
        "chain = prompt | chatmodel | ToolsAgentOutputParser()\n"
      ]
    },
    {
      "cell_type": "code",
      "execution_count": null,
      "metadata": {
        "colab": {
          "base_uri": "https://localhost:8080/"
        },
        "id": "wwVNYX2W9gk0",
        "outputId": "3bf7c522-2b1d-4136-db90-66e8ac22036b"
      },
      "outputs": [
        {
          "data": {
            "text/plain": [
              "[ToolAgentAction(tool='check_contact', tool_input={'name': 'Ronaldo'}, log=\"\\nInvoking: `check_contact` with `{'name': 'Ronaldo'}`\\nresponded: [{'text': 'Let me check if you have a contact named Ronaldo in your database.', 'type': 'text'}, {'id': 'toolu_01KE8FAySN3z8Qft7cRzmgLX', 'input': {'name': 'Ronaldo'}, 'name': 'check_contact', 'type': 'tool_use'}]\\n\\n\", message_log=[AIMessage(content=[{'text': 'Let me check if you have a contact named Ronaldo in your database.', 'type': 'text'}, {'id': 'toolu_01KE8FAySN3z8Qft7cRzmgLX', 'input': {'name': 'Ronaldo'}, 'name': 'check_contact', 'type': 'tool_use'}], additional_kwargs={}, response_metadata={'id': 'msg_01DQXiceo7XuHPffU3asGNAL', 'model': 'claude-3-7-sonnet-20250219', 'stop_reason': 'tool_use', 'stop_sequence': None, 'usage': {'cache_creation_input_tokens': 0, 'cache_read_input_tokens': 0, 'input_tokens': 1614, 'output_tokens': 72, 'server_tool_use': None}, 'model_name': 'claude-3-7-sonnet-20250219'}, id='run--f740ec9f-78d1-47e1-b7f2-c86423a3e520-0', tool_calls=[{'name': 'check_contact', 'args': {'name': 'Ronaldo'}, 'id': 'toolu_01KE8FAySN3z8Qft7cRzmgLX', 'type': 'tool_call'}], usage_metadata={'input_tokens': 1614, 'output_tokens': 72, 'total_tokens': 1686, 'input_token_details': {'cache_read': 0, 'cache_creation': 0}})], tool_call_id='toolu_01KE8FAySN3z8Qft7cRzmgLX')]"
            ]
          },
          "execution_count": 48,
          "metadata": {},
          "output_type": "execute_result"
        }
      ],
      "source": [
        "result1 = chain.invoke({\n",
        "    \"input\": \"do I have a contact named Ronaldo?\",\n",
        "    \"agent_scratchpad\": []\n",
        "})\n",
        "\n",
        "result1"
      ]
    },
    {
      "cell_type": "code",
      "execution_count": null,
      "metadata": {
        "colab": {
          "base_uri": "https://localhost:8080/"
        },
        "id": "yChctUK7h0hx",
        "outputId": "2ed0712c-69b8-4698-c4dc-03d75f3abede"
      },
      "outputs": [
        {
          "data": {
            "text/plain": [
              "(list, langchain.agents.output_parsers.tools.ToolAgentAction)"
            ]
          },
          "execution_count": 49,
          "metadata": {},
          "output_type": "execute_result"
        }
      ],
      "source": [
        "type(result1),type(result1[0])"
      ]
    },
    {
      "cell_type": "markdown",
      "metadata": {
        "id": "QB_zSDbvVST2"
      },
      "source": [
        "Notice 👀\n",
        "\n",
        "\n",
        "✅ `ToolsOutputParser()` is fetched as a **dictionary** with the tool_calls key ✅\n",
        "\n",
        "✅ `ToolsAgentOutputParser()` returns an instance of `ToolAgentAction` or `AgentFinish` with easier to fetch attributes ✅\n"
      ]
    },
    {
      "cell_type": "code",
      "execution_count": null,
      "metadata": {
        "colab": {
          "base_uri": "https://localhost:8080/"
        },
        "id": "4-FgsEatNAfn",
        "outputId": "410cafb3-9657-4047-ac15-55a2acad06ac"
      },
      "outputs": [
        {
          "name": "stdout",
          "output_type": "stream",
          "text": [
            "check_contact \n",
            "\n",
            "{'name': 'Ronaldo'} \n",
            "\n",
            "AgentActionMessageLog \n",
            "\n",
            "[AIMessage(content=[{'text': 'Let me check if you have a contact named Ronaldo in your database.', 'type': 'text'}, {'id': 'toolu_01KE8FAySN3z8Qft7cRzmgLX', 'input': {'name': 'Ronaldo'}, 'name': 'check_contact', 'type': 'tool_use'}], additional_kwargs={}, response_metadata={'id': 'msg_01DQXiceo7XuHPffU3asGNAL', 'model': 'claude-3-7-sonnet-20250219', 'stop_reason': 'tool_use', 'stop_sequence': None, 'usage': {'cache_creation_input_tokens': 0, 'cache_read_input_tokens': 0, 'input_tokens': 1614, 'output_tokens': 72, 'server_tool_use': None}, 'model_name': 'claude-3-7-sonnet-20250219'}, id='run--f740ec9f-78d1-47e1-b7f2-c86423a3e520-0', tool_calls=[{'name': 'check_contact', 'args': {'name': 'Ronaldo'}, 'id': 'toolu_01KE8FAySN3z8Qft7cRzmgLX', 'type': 'tool_call'}], usage_metadata={'input_tokens': 1614, 'output_tokens': 72, 'total_tokens': 1686, 'input_token_details': {'cache_read': 0, 'cache_creation': 0}})] \n",
            "\n",
            "what is was before fetched by ToolsOutputParser() \n",
            " [{'name': 'check_contact', 'args': {'name': 'Ronaldo'}, 'id': 'toolu_01KE8FAySN3z8Qft7cRzmgLX', 'type': 'tool_call'}]\n"
          ]
        }
      ],
      "source": [
        "result = result1[0]\n",
        "\n",
        "print(result.tool, \"\\n\")\n",
        "print(result.tool_input, \"\\n\")\n",
        "print(result.type, \"\\n\")\n",
        "print(result.message_log, \"\\n\")\n",
        "print(\"what is was before fetched by ToolsOutputParser()\", \"\\n\", result.message_log[0].tool_calls)"
      ]
    },
    {
      "cell_type": "code",
      "execution_count": null,
      "metadata": {
        "colab": {
          "base_uri": "https://localhost:8080/"
        },
        "id": "oGdzCI3JQ0xT",
        "outputId": "d2ef55f9-7dbf-4924-f6c1-bcf96d022928"
      },
      "outputs": [
        {
          "name": "stdout",
          "output_type": "stream",
          "text": [
            "True\n"
          ]
        },
        {
          "data": {
            "text/plain": [
              "AgentFinish(return_values={'output': \"Olá! I'm Wesley Safadão, your contact management assistant. How can I help you today? I can verify, create, delete, or edit your contacts. Just let me know what you need!\"}, log=\"Olá! I'm Wesley Safadão, your contact management assistant. How can I help you today? I can verify, create, delete, or edit your contacts. Just let me know what you need!\")"
            ]
          },
          "execution_count": 51,
          "metadata": {},
          "output_type": "execute_result"
        }
      ],
      "source": [
        "result2 = chain.invoke({\n",
        "    \"input\": \"Hi!\",\n",
        "    \"agent_scratchpad\": []\n",
        "})\n",
        "\n",
        "from langchain.schema.agent import AgentFinish\n",
        "\n",
        "print(isinstance(result2,AgentFinish))\n",
        "\n",
        "result2"
      ]
    },
    {
      "cell_type": "markdown",
      "metadata": {
        "id": "8AghaqGec7oX"
      },
      "source": [
        "I can now modify the route function to take in `AgentActionMessageLog` object instead of a dictionary."
      ]
    },
    {
      "cell_type": "code",
      "execution_count": null,
      "metadata": {
        "id": "BAE271PvFPNU"
      },
      "outputs": [],
      "source": [
        "from langchain.schema.agent import AgentFinish\n",
        "\n",
        "def route(result):\n",
        "    if isinstance(result,AgentFinish):\n",
        "        return print(\"No tools selected\")\n",
        "    else:\n",
        "        tools = {\n",
        "            \"check_contact\": check_contact,\n",
        "            \"add_contact\": add_contact,\n",
        "            \"remove_contact\": remove_contact,\n",
        "            \"edit_contact\": edit_contact,\n",
        "        }\n",
        "        return tools[result[0].tool].run(result[0].tool_input)"
      ]
    },
    {
      "cell_type": "markdown",
      "metadata": {
        "id": "xnEYMCI1g2Rb"
      },
      "source": [
        "Now test it with a simple call"
      ]
    },
    {
      "cell_type": "code",
      "execution_count": null,
      "metadata": {
        "colab": {
          "base_uri": "https://localhost:8080/"
        },
        "id": "luXfJAUZSzSI",
        "outputId": "ad73c255-eee7-4cc0-a025-a4de32c5f3a7"
      },
      "outputs": [
        {
          "data": {
            "text/plain": [
              "{'success': True,\n",
              " 'message': {'id': 6,\n",
              "  'name': 'Ronaldo',\n",
              "  'nickname': 'R9',\n",
              "  'phone_number': '+15575867367',\n",
              "  'email': 'fifathebest@uol.com'}}"
            ]
          },
          "execution_count": 53,
          "metadata": {},
          "output_type": "execute_result"
        }
      ],
      "source": [
        "chain_route = prompt | chatmodel | ToolsAgentOutputParser() | route  # replacing ToolsOutputParser()\n",
        "\n",
        "observation1 = chain_route.invoke({\n",
        "    \"input\": \"do I have a contact named Ronaldo?\",\n",
        "    \"agent_scratchpad\": []\n",
        "})\n",
        "\n",
        "observation1"
      ]
    },
    {
      "cell_type": "markdown",
      "metadata": {
        "id": "8_fbOG-yg9Oi"
      },
      "source": [
        "📓 Note it gives the same as calling the function directly"
      ]
    },
    {
      "cell_type": "code",
      "execution_count": null,
      "metadata": {
        "colab": {
          "base_uri": "https://localhost:8080/"
        },
        "id": "kttQDGtpgtzT",
        "outputId": "6021b79b-99cc-460b-e7ea-e64e378bf8c8"
      },
      "outputs": [
        {
          "data": {
            "text/plain": [
              "{'success': True,\n",
              " 'message': {'id': 6,\n",
              "  'name': 'Ronaldo',\n",
              "  'nickname': 'R9',\n",
              "  'phone_number': '+15575867367',\n",
              "  'email': 'fifathebest@uol.com'}}"
            ]
          },
          "execution_count": 54,
          "metadata": {},
          "output_type": "execute_result"
        }
      ],
      "source": [
        "observation2 = check_contact({\"name\":\"Ronaldo\"})\n",
        "\n",
        "observation2"
      ]
    },
    {
      "cell_type": "markdown",
      "metadata": {
        "id": "hK11vPLZhMv2"
      },
      "source": [
        "✅ The `langchain.agents.format_scratchpad` function is part of the LangChain framework, which is designed to facilitate the development of applications using large language models (LLMs). Specifically, this function is used to format the intermediate steps taken by an agent during its operation, allowing for better tracking and management of the agent's thought process and actions.\n",
        "Here this function is replaced by it equivalent `format_to_tool_messages()`\n",
        "\n",
        "✅ The primary purpose of `format_scratchpad` is to convert the intermediate steps of an agent's decision-making process into a structured format that can be easily understood and utilized. This is particularly useful in scenarios where an agent needs to maintain context or reference previous actions and observations.\n",
        "\n",
        "▶ The function takes a list of tuples as input, where each tuple consists of an AgentAction and its corresponding output (observation).\n",
        "\n",
        "▶ These intermediate steps represent the actions the agent has taken and the results of those actions."
      ]
    },
    {
      "cell_type": "code",
      "execution_count": null,
      "metadata": {
        "colab": {
          "base_uri": "https://localhost:8080/"
        },
        "id": "RI41EuNy9gZZ",
        "outputId": "7abf2c19-c17f-490e-efa1-9cd79ad48dce"
      },
      "outputs": [
        {
          "data": {
            "text/plain": [
              "[AIMessage(content=[{'text': 'Let me check if you have a contact named Ronaldo in your database.', 'type': 'text'}, {'id': 'toolu_01KE8FAySN3z8Qft7cRzmgLX', 'input': {'name': 'Ronaldo'}, 'name': 'check_contact', 'type': 'tool_use'}], additional_kwargs={}, response_metadata={'id': 'msg_01DQXiceo7XuHPffU3asGNAL', 'model': 'claude-3-7-sonnet-20250219', 'stop_reason': 'tool_use', 'stop_sequence': None, 'usage': {'cache_creation_input_tokens': 0, 'cache_read_input_tokens': 0, 'input_tokens': 1614, 'output_tokens': 72, 'server_tool_use': None}, 'model_name': 'claude-3-7-sonnet-20250219'}, id='run--f740ec9f-78d1-47e1-b7f2-c86423a3e520-0', tool_calls=[{'name': 'check_contact', 'args': {'name': 'Ronaldo'}, 'id': 'toolu_01KE8FAySN3z8Qft7cRzmgLX', 'type': 'tool_call'}], usage_metadata={'input_tokens': 1614, 'output_tokens': 72, 'total_tokens': 1686, 'input_token_details': {'cache_read': 0, 'cache_creation': 0}}),\n",
              " ToolMessage(content='{\"success\": true, \"message\": {\"id\": 6, \"name\": \"Ronaldo\", \"nickname\": \"R9\", \"phone_number\": \"+15575867367\", \"email\": \"fifathebest@uol.com\"}}', tool_call_id='toolu_01KE8FAySN3z8Qft7cRzmgLX')]"
            ]
          },
          "execution_count": 55,
          "metadata": {},
          "output_type": "execute_result"
        }
      ],
      "source": [
        "# Let me test the usage and output of format_to_tool_messages() which was found to be an alternative to format_to_openai_functions()\n",
        "\n",
        "from langchain.agents.format_scratchpad.tools import format_to_tool_messages\n",
        "\n",
        "format_to_tool_messages([(result, observation2), ])"
      ]
    },
    {
      "cell_type": "markdown",
      "metadata": {
        "id": "v1ldHfzqdVZE"
      },
      "source": [
        "⚡ Now I can incorporate it into my agent 🤖 adapting from the function `route()`"
      ]
    },
    {
      "cell_type": "code",
      "execution_count": null,
      "metadata": {
        "id": "V7K5C1kJM1PK"
      },
      "outputs": [],
      "source": [
        "# adapted from route()\n",
        "def run_agent(user_input):\n",
        "    intermediate_steps = []\n",
        "    while True:\n",
        "        result = chain.invoke({\n",
        "            \"input\": user_input,\n",
        "            \"agent_scratchpad\": format_to_tool_messages(intermediate_steps)\n",
        "        })\n",
        "        if isinstance(result, AgentFinish):\n",
        "            return result\n",
        "        else:\n",
        "          result_ = result[0]\n",
        "          tool = {\n",
        "            \"check_contact\": check_contact,\n",
        "            \"add_contact\": add_contact,\n",
        "            \"remove_contact\": remove_contact,\n",
        "            \"edit_contact\": edit_contact,\n",
        "          }[result_.tool]\n",
        "          observation = tool.run(result_.tool_input)\n",
        "          intermediate_steps.append((result_, observation))"
      ]
    },
    {
      "cell_type": "code",
      "execution_count": null,
      "metadata": {
        "colab": {
          "base_uri": "https://localhost:8080/"
        },
        "id": "ciNj3cTQgMRm",
        "outputId": "9bfdc97d-43a9-46af-ad56-d0b03b132036"
      },
      "outputs": [
        {
          "data": {
            "text/plain": [
              "AgentFinish(return_values={'output': 'Yes, you have a contact named Ronaldo! Here are the details:\\n- Name: Ronaldo\\n- Nickname: R9\\n- Phone: +15575867367\\n- Email: fifathebest@uol.com'}, log='Yes, you have a contact named Ronaldo! Here are the details:\\n- Name: Ronaldo\\n- Nickname: R9\\n- Phone: +15575867367\\n- Email: fifathebest@uol.com')"
            ]
          },
          "execution_count": 57,
          "metadata": {},
          "output_type": "execute_result"
        }
      ],
      "source": [
        "run_agent(\"do I have a contact named Ronaldo?\")"
      ]
    },
    {
      "cell_type": "markdown",
      "metadata": {
        "id": "twc6h4Sres0_"
      },
      "source": [
        "---\n"
      ]
    },
    {
      "cell_type": "markdown",
      "metadata": {
        "id": "LVqqKtErgn8E"
      },
      "source": [
        "# ❗ As an alternative to the function **run_agent()**, I can use **AgentExecutor** 🏃"
      ]
    },
    {
      "cell_type": "markdown",
      "metadata": {
        "id": "5ArUys7yYEI5"
      },
      "source": [
        "✅ In the following we use LangChain's `RunnablePassthrough` and a custom agent chain to process user input, execute tools, and return results.\n",
        "\n",
        "▶ RunnablePassthrough is a utility in LangChain that passes inputs unchanged or adds additional keys to the output. It is often used in chains to forward data without modifying it.\n",
        "\n",
        "▶ In this code, it is used with the `.assign()` method to add a new key `(agent_scratchpad)` to the input dictionary. It Merges the Dict input with the output produced by the mapping argument."
      ]
    },
    {
      "cell_type": "code",
      "execution_count": null,
      "metadata": {
        "id": "La0V4ivZgFv9"
      },
      "outputs": [],
      "source": [
        "from langchain.schema.runnable import RunnablePassthrough\n",
        "agent_chain = RunnablePassthrough.assign(\n",
        "    agent_scratchpad= lambda x: format_to_tool_messages(x[\"intermediate_steps\"])\n",
        ") | chain\n",
        "\n",
        "# chain = prompt | chatmodel | ToolsAgentOutputParser()"
      ]
    },
    {
      "cell_type": "code",
      "execution_count": null,
      "metadata": {
        "id": "5PlXqY4jfAra"
      },
      "outputs": [],
      "source": [
        "# Assuming check_contact, add_contact, remove_contact, and edit_contact are the functions\n",
        "# decorated with @tool as defined earlier in the notebook.\n",
        "# The tools_box list for AgentExecutor should contain the tool objects, not just the functions nor the json.\n",
        "# Recreate the list of tools using the decorated functions which are already Tool objects.\n",
        "\n",
        "tools_box = [check_contact, add_contact, remove_contact, edit_contact]\n",
        "tools = tools_box"
      ]
    },
    {
      "cell_type": "code",
      "execution_count": null,
      "metadata": {
        "id": "6d7UNUKHev_k"
      },
      "outputs": [],
      "source": [
        "from langchain.agents import AgentExecutor\n",
        "\n",
        "agent_executor = AgentExecutor(agent=agent_chain, tools=tools, verbose=True)"
      ]
    },
    {
      "cell_type": "code",
      "execution_count": null,
      "metadata": {
        "colab": {
          "base_uri": "https://localhost:8080/"
        },
        "id": "32LRlsBzev0L",
        "outputId": "4eacfe85-4af4-4a67-ccd6-84aa70efa0c9"
      },
      "outputs": [
        {
          "name": "stdout",
          "output_type": "stream",
          "text": [
            "\n",
            "\n",
            "\u001b[1m> Entering new AgentExecutor chain...\u001b[0m\n",
            "\u001b[32;1m\u001b[1;3m\n",
            "Invoking: `check_contact` with `{'name': 'Ronaldo'}`\n",
            "responded: [{'text': 'Let me check if you have a contact named Ronaldo in your database.', 'type': 'text', 'index': 0}, {'id': 'toolu_017PjGKthuf1VWJ4AyjUe4hP', 'input': {}, 'name': 'check_contact', 'type': 'tool_use', 'index': 1, 'partial_json': '{\"name\": \"Ronaldo\"}'}]\n",
            "\n",
            "\u001b[0m\u001b[36;1m\u001b[1;3m{'success': True, 'message': {'id': 6, 'name': 'Ronaldo', 'nickname': 'R9', 'phone_number': '+15575867367', 'email': 'fifathebest@uol.com'}}\u001b[0m\u001b[32;1m\u001b[1;3m[{'text': 'Yes, you have a contact named Ronaldo! Here are the details:\\n- Name: Ronaldo\\n- Nickname: R9\\n- Phone: +15575867367\\n- Email: fifathebest@uol.com', 'type': 'text', 'index': 0}]\u001b[0m\n",
            "\n",
            "\u001b[1m> Finished chain.\u001b[0m\n"
          ]
        },
        {
          "data": {
            "text/plain": [
              "{'input': 'do I have a contact named Ronaldo?',\n",
              " 'output': [{'text': 'Yes, you have a contact named Ronaldo! Here are the details:\\n- Name: Ronaldo\\n- Nickname: R9\\n- Phone: +15575867367\\n- Email: fifathebest@uol.com',\n",
              "   'type': 'text',\n",
              "   'index': 0}]}"
            ]
          },
          "execution_count": 61,
          "metadata": {},
          "output_type": "execute_result"
        }
      ],
      "source": [
        "agent_executor.invoke({\"input\": \"do I have a contact named Ronaldo?\"})"
      ]
    },
    {
      "cell_type": "markdown",
      "metadata": {
        "id": "NAL8c3TXXXbE"
      },
      "source": [
        "Let us test the memory capability 🧠"
      ]
    },
    {
      "cell_type": "code",
      "execution_count": null,
      "metadata": {
        "colab": {
          "base_uri": "https://localhost:8080/"
        },
        "id": "Q9W-i6LrjcLh",
        "outputId": "aea4edd6-db35-4e3b-9db6-8ba3d5b060ab"
      },
      "outputs": [
        {
          "name": "stdout",
          "output_type": "stream",
          "text": [
            "\n",
            "\n",
            "\u001b[1m> Entering new AgentExecutor chain...\u001b[0m\n",
            "\u001b[32;1m\u001b[1;3m[{'text': \"Olá, Yago Pikachu! I'm Wesley Safadão, your helpful assistant for managing contacts. I can help you verify, create, delete, or edit contact information. Just let me know what you'd like to do with your contacts, and I'll assist you right away!\", 'type': 'text', 'index': 0}]\u001b[0m\n",
            "\n",
            "\u001b[1m> Finished chain.\u001b[0m\n"
          ]
        },
        {
          "data": {
            "text/plain": [
              "{'input': 'Hi, my name is Yago Pikachu. What is your name?',\n",
              " 'output': [{'text': \"Olá, Yago Pikachu! I'm Wesley Safadão, your helpful assistant for managing contacts. I can help you verify, create, delete, or edit contact information. Just let me know what you'd like to do with your contacts, and I'll assist you right away!\",\n",
              "   'type': 'text',\n",
              "   'index': 0}]}"
            ]
          },
          "execution_count": 62,
          "metadata": {},
          "output_type": "execute_result"
        }
      ],
      "source": [
        "agent_executor.invoke({\"input\": \"Hi, my name is Yago Pikachu. What is your name?\"})"
      ]
    },
    {
      "cell_type": "code",
      "execution_count": null,
      "metadata": {
        "colab": {
          "base_uri": "https://localhost:8080/"
        },
        "id": "F6NVb18Mjd9H",
        "outputId": "b910e006-8f5a-4fca-ef1e-09ae5cc55a6c"
      },
      "outputs": [
        {
          "name": "stdout",
          "output_type": "stream",
          "text": [
            "\n",
            "\n",
            "\u001b[1m> Entering new AgentExecutor chain...\u001b[0m\n",
            "\u001b[32;1m\u001b[1;3m[{'text': \"I don't have access to your personal information, including your name, unless you've shared it with me during our conversation. If you'd like, you can tell me your name, and I can use it when addressing you. How can I help you with managing your contacts today?\", 'type': 'text', 'index': 0}]\u001b[0m\n",
            "\n",
            "\u001b[1m> Finished chain.\u001b[0m\n"
          ]
        },
        {
          "data": {
            "text/plain": [
              "{'input': 'what is my name?',\n",
              " 'output': [{'text': \"I don't have access to your personal information, including your name, unless you've shared it with me during our conversation. If you'd like, you can tell me your name, and I can use it when addressing you. How can I help you with managing your contacts today?\",\n",
              "   'type': 'text',\n",
              "   'index': 0}]}"
            ]
          },
          "execution_count": 63,
          "metadata": {},
          "output_type": "execute_result"
        }
      ],
      "source": [
        "agent_executor.invoke({\"input\": \"what is my name?\"})"
      ]
    },
    {
      "cell_type": "markdown",
      "metadata": {
        "id": "EM_BqfL24U8C"
      },
      "source": [
        "## Clearly the agent 🤖 is not capable to memorize things 🧠. I have to implement it with an AgentExecutor."
      ]
    },
    {
      "cell_type": "markdown",
      "metadata": {
        "id": "jTlUaBxQ1h1F"
      },
      "source": [
        "---"
      ]
    },
    {
      "cell_type": "markdown",
      "metadata": {
        "id": "4m0k6fshaqpK"
      },
      "source": [
        "To add a memory buffer is pretty easy. Just increment the `ChatPromptTemplate` with message placeholder, deffine the `ConversationBufferMemory`, and add the memory object to the `AgentExecutor`"
      ]
    },
    {
      "cell_type": "code",
      "execution_count": null,
      "metadata": {
        "id": "xm-LLLIR50b9"
      },
      "outputs": [],
      "source": [
        "from langchain_anthropic.output_parsers import ToolsOutputParser\n",
        "from langchain.prompts import ChatPromptTemplate\n",
        "from langchain.prompts import MessagesPlaceholder\n",
        "\n",
        "# adapt the prompt to store message history\n",
        "prompt = ChatPromptTemplate.from_messages([\n",
        "    (\"system\", \"You are helpful assistant named Wesley Safadão. Your task is to manage contact information for the user such as verify, create, delete, or edit a contact informations like contacts name, phone number, email, etc. Keep your answers short.\"),\n",
        "    MessagesPlaceholder(variable_name=\"chat_history\"),\n",
        "    (\"user\", \"{input}\"),\n",
        "    MessagesPlaceholder(variable_name=\"agent_scratchpad\")\n",
        "])\n"
      ]
    },
    {
      "cell_type": "code",
      "execution_count": null,
      "metadata": {
        "colab": {
          "base_uri": "https://localhost:8080/"
        },
        "id": "u2EO8Skh7UoR",
        "outputId": "f4582d8c-a604-43bf-b506-5ca92da5eb31"
      },
      "outputs": [
        {
          "name": "stderr",
          "output_type": "stream",
          "text": [
            "<ipython-input-65-4839071d5871>:3: LangChainDeprecationWarning: Please see the migration guide at: https://python.langchain.com/docs/versions/migrating_memory/\n",
            "  memory = ConversationBufferMemory(return_messages=True, memory_key=\"chat_history\")\n"
          ]
        }
      ],
      "source": [
        "# Use the ConversationBufferMemory\n",
        "from langchain.memory import ConversationBufferMemory\n",
        "memory = ConversationBufferMemory(return_messages=True, memory_key=\"chat_history\")\n"
      ]
    },
    {
      "cell_type": "code",
      "execution_count": null,
      "metadata": {
        "id": "lBZL5b-xCLds"
      },
      "outputs": [],
      "source": [
        "# check the comments about RunnablePassthrough from before\n",
        "from langchain.schema.runnable import RunnablePassthrough\n",
        "\n",
        "agent_chain = RunnablePassthrough.assign(\n",
        "    agent_scratchpad= lambda x: format_to_tool_messages(x[\"intermediate_steps\"])\n",
        ") | prompt | chatmodel | ToolsAgentOutputParser()"
      ]
    },
    {
      "cell_type": "code",
      "execution_count": null,
      "metadata": {
        "id": "jnT7RrRg8M-9"
      },
      "outputs": [],
      "source": [
        "# and add memory to the agent executor.\n",
        "agent_executor = AgentExecutor(agent=agent_chain, tools=tools, verbose=True, memory=memory)"
      ]
    },
    {
      "cell_type": "code",
      "execution_count": null,
      "metadata": {
        "colab": {
          "base_uri": "https://localhost:8080/"
        },
        "id": "5gLS8RS78M4y",
        "outputId": "cea7bac6-0751-44c9-e4ef-c92607cb7f61"
      },
      "outputs": [
        {
          "name": "stdout",
          "output_type": "stream",
          "text": [
            "\n",
            "\n",
            "\u001b[1m> Entering new AgentExecutor chain...\u001b[0m\n",
            "\u001b[32;1m\u001b[1;3m[{'text': \"Olá, Yago Pikachu! I'm Wesley Safadão, your contact management assistant. I can help you verify, create, delete, or edit contact information. Just let me know what you'd like to do with your contacts, and I'll take care of it for you!\", 'type': 'text', 'index': 0}]\u001b[0m\n",
            "\n",
            "\u001b[1m> Finished chain.\u001b[0m\n"
          ]
        },
        {
          "data": {
            "text/plain": [
              "{'input': 'Hi, my name is Yago Pikachu. What is your name?',\n",
              " 'chat_history': [HumanMessage(content='Hi, my name is Yago Pikachu. What is your name?', additional_kwargs={}, response_metadata={}),\n",
              "  AIMessage(content=[{'text': \"Olá, Yago Pikachu! I'm Wesley Safadão, your contact management assistant. I can help you verify, create, delete, or edit contact information. Just let me know what you'd like to do with your contacts, and I'll take care of it for you!\", 'type': 'text', 'index': 0}], additional_kwargs={}, response_metadata={})],\n",
              " 'output': [{'text': \"Olá, Yago Pikachu! I'm Wesley Safadão, your contact management assistant. I can help you verify, create, delete, or edit contact information. Just let me know what you'd like to do with your contacts, and I'll take care of it for you!\",\n",
              "   'type': 'text',\n",
              "   'index': 0}]}"
            ]
          },
          "execution_count": 68,
          "metadata": {},
          "output_type": "execute_result"
        }
      ],
      "source": [
        "agent_executor.invoke({\"input\": \"Hi, my name is Yago Pikachu. What is your name?\"})"
      ]
    },
    {
      "cell_type": "code",
      "execution_count": null,
      "metadata": {
        "colab": {
          "base_uri": "https://localhost:8080/"
        },
        "id": "g3LBhh4Sj2rX",
        "outputId": "83f19e9a-a9f7-4090-ed00-326ee2d6841e"
      },
      "outputs": [
        {
          "name": "stdout",
          "output_type": "stream",
          "text": [
            "\n",
            "\n",
            "\u001b[1m> Entering new AgentExecutor chain...\u001b[0m\n",
            "\u001b[32;1m\u001b[1;3m[{'text': 'Your name is Yago Pikachu, as you mentioned earlier. How can I help you manage your contacts today?', 'type': 'text', 'index': 0}]\u001b[0m\n",
            "\n",
            "\u001b[1m> Finished chain.\u001b[0m\n"
          ]
        },
        {
          "data": {
            "text/plain": [
              "{'input': 'what is my name?',\n",
              " 'chat_history': [HumanMessage(content='Hi, my name is Yago Pikachu. What is your name?', additional_kwargs={}, response_metadata={}),\n",
              "  AIMessage(content=[{'text': \"Olá, Yago Pikachu! I'm Wesley Safadão, your contact management assistant. I can help you verify, create, delete, or edit contact information. Just let me know what you'd like to do with your contacts, and I'll take care of it for you!\", 'type': 'text', 'index': 0}], additional_kwargs={}, response_metadata={}),\n",
              "  HumanMessage(content='what is my name?', additional_kwargs={}, response_metadata={}),\n",
              "  AIMessage(content=[{'text': 'Your name is Yago Pikachu, as you mentioned earlier. How can I help you manage your contacts today?', 'type': 'text', 'index': 0}], additional_kwargs={}, response_metadata={})],\n",
              " 'output': [{'text': 'Your name is Yago Pikachu, as you mentioned earlier. How can I help you manage your contacts today?',\n",
              "   'type': 'text',\n",
              "   'index': 0}]}"
            ]
          },
          "execution_count": 69,
          "metadata": {},
          "output_type": "execute_result"
        }
      ],
      "source": [
        "agent_executor.invoke({\"input\": \"what is my name?\"})"
      ]
    },
    {
      "cell_type": "code",
      "execution_count": null,
      "metadata": {
        "colab": {
          "base_uri": "https://localhost:8080/"
        },
        "id": "162wIiBFkKLk",
        "outputId": "7a9bf5dc-ea98-4526-be7a-4f972a1865ac"
      },
      "outputs": [
        {
          "name": "stdout",
          "output_type": "stream",
          "text": [
            "\n",
            "\n",
            "\u001b[1m> Entering new AgentExecutor chain...\u001b[0m\n",
            "\u001b[32;1m\u001b[1;3m\n",
            "Invoking: `check_contact` with `{'name': 'Ronaldo'}`\n",
            "responded: [{'text': 'Let me check if you have a contact named Ronaldo.', 'type': 'text', 'index': 0}, {'id': 'toolu_018AU3Wpd84EBodMhwHS3zbK', 'input': {}, 'name': 'check_contact', 'type': 'tool_use', 'index': 1, 'partial_json': '{\"name\": \"Ronaldo\"}'}]\n",
            "\n",
            "\u001b[0m\u001b[36;1m\u001b[1;3m{'success': True, 'message': {'id': 6, 'name': 'Ronaldo', 'nickname': 'R9', 'phone_number': '+15575867367', 'email': 'fifathebest@uol.com'}}\u001b[0m\u001b[32;1m\u001b[1;3m[{'text': 'Yes, you have a contact named Ronaldo! Here are the details:\\n- Name: Ronaldo\\n- Nickname: R9\\n- Phone: +15575867367\\n- Email: fifathebest@uol.com', 'type': 'text', 'index': 0}]\u001b[0m\n",
            "\n",
            "\u001b[1m> Finished chain.\u001b[0m\n"
          ]
        },
        {
          "data": {
            "text/plain": [
              "{'input': 'do I have a contact named Ronaldo?',\n",
              " 'chat_history': [HumanMessage(content='Hi, my name is Yago Pikachu. What is your name?', additional_kwargs={}, response_metadata={}),\n",
              "  AIMessage(content=[{'text': \"Olá, Yago Pikachu! I'm Wesley Safadão, your contact management assistant. I can help you verify, create, delete, or edit contact information. Just let me know what you'd like to do with your contacts, and I'll take care of it for you!\", 'type': 'text', 'index': 0}], additional_kwargs={}, response_metadata={}),\n",
              "  HumanMessage(content='what is my name?', additional_kwargs={}, response_metadata={}),\n",
              "  AIMessage(content=[{'text': 'Your name is Yago Pikachu, as you mentioned earlier. How can I help you manage your contacts today?', 'type': 'text', 'index': 0}], additional_kwargs={}, response_metadata={}),\n",
              "  HumanMessage(content='do I have a contact named Ronaldo?', additional_kwargs={}, response_metadata={}),\n",
              "  AIMessage(content=[{'text': 'Yes, you have a contact named Ronaldo! Here are the details:\\n- Name: Ronaldo\\n- Nickname: R9\\n- Phone: +15575867367\\n- Email: fifathebest@uol.com', 'type': 'text', 'index': 0}], additional_kwargs={}, response_metadata={})],\n",
              " 'output': [{'text': 'Yes, you have a contact named Ronaldo! Here are the details:\\n- Name: Ronaldo\\n- Nickname: R9\\n- Phone: +15575867367\\n- Email: fifathebest@uol.com',\n",
              "   'type': 'text',\n",
              "   'index': 0}]}"
            ]
          },
          "execution_count": 70,
          "metadata": {},
          "output_type": "execute_result"
        }
      ],
      "source": [
        "agent_executor.invoke({\"input\": \"do I have a contact named Ronaldo?\"})"
      ]
    },
    {
      "cell_type": "code",
      "execution_count": null,
      "metadata": {
        "colab": {
          "base_uri": "https://localhost:8080/"
        },
        "id": "vx_EaEUAxhoF",
        "outputId": "a51b648c-e4c9-49ae-d8b2-556e7f972e74"
      },
      "outputs": [
        {
          "name": "stdout",
          "output_type": "stream",
          "text": [
            "\n",
            "\n",
            "\u001b[1m> Entering new AgentExecutor chain...\u001b[0m\n",
            "\u001b[32;1m\u001b[1;3m\n",
            "Invoking: `add_contact` with `{'name': 'José Celso', 'nickname': 'zé', 'phone_number': '+4538770890', 'email': 'zecelso@uol.com'}`\n",
            "responded: [{'id': 'toolu_01QetA9tHC2JeE2Gp8waevwu', 'input': {}, 'name': 'add_contact', 'type': 'tool_use', 'index': 0, 'partial_json': '{\"name\": \"José Celso\", \"nickname\": \"zé\", \"phone_number\": \"+4538770890\", \"email\": \"zecelso@uol.com\"}'}]\n",
            "\n",
            "\u001b[0m\u001b[33;1m\u001b[1;3m{'success': True, 'message': 'A new contact was added successfully.'}\u001b[0m\u001b[32;1m\u001b[1;3m[{'text': 'Pronto! I\\'ve added José Celso to your contacts with the nickname \"zé\", phone number +4538770890, and email zecelso@uol.com. The contact was created successfully!', 'type': 'text', 'index': 0}]\u001b[0m\n",
            "\n",
            "\u001b[1m> Finished chain.\u001b[0m\n"
          ]
        },
        {
          "data": {
            "text/plain": [
              "{'input': 'Create a new contact named José Celso aka zé, with phone number +4538770890, email zecelso@uol.com',\n",
              " 'chat_history': [HumanMessage(content='Hi, my name is Yago Pikachu. What is your name?', additional_kwargs={}, response_metadata={}),\n",
              "  AIMessage(content=[{'text': \"Olá, Yago Pikachu! I'm Wesley Safadão, your contact management assistant. I can help you verify, create, delete, or edit contact information. Just let me know what you'd like to do with your contacts, and I'll take care of it for you!\", 'type': 'text', 'index': 0}], additional_kwargs={}, response_metadata={}),\n",
              "  HumanMessage(content='what is my name?', additional_kwargs={}, response_metadata={}),\n",
              "  AIMessage(content=[{'text': 'Your name is Yago Pikachu, as you mentioned earlier. How can I help you manage your contacts today?', 'type': 'text', 'index': 0}], additional_kwargs={}, response_metadata={}),\n",
              "  HumanMessage(content='do I have a contact named Ronaldo?', additional_kwargs={}, response_metadata={}),\n",
              "  AIMessage(content=[{'text': 'Yes, you have a contact named Ronaldo! Here are the details:\\n- Name: Ronaldo\\n- Nickname: R9\\n- Phone: +15575867367\\n- Email: fifathebest@uol.com', 'type': 'text', 'index': 0}], additional_kwargs={}, response_metadata={}),\n",
              "  HumanMessage(content='Create a new contact named José Celso aka zé, with phone number +4538770890, email zecelso@uol.com', additional_kwargs={}, response_metadata={}),\n",
              "  AIMessage(content=[{'text': 'Pronto! I\\'ve added José Celso to your contacts with the nickname \"zé\", phone number +4538770890, and email zecelso@uol.com. The contact was created successfully!', 'type': 'text', 'index': 0}], additional_kwargs={}, response_metadata={})],\n",
              " 'output': [{'text': 'Pronto! I\\'ve added José Celso to your contacts with the nickname \"zé\", phone number +4538770890, and email zecelso@uol.com. The contact was created successfully!',\n",
              "   'type': 'text',\n",
              "   'index': 0}]}"
            ]
          },
          "execution_count": 82,
          "metadata": {},
          "output_type": "execute_result"
        }
      ],
      "source": [
        "agent_executor.invoke({\"input\": \"Create a new contact named José Celso aka zé, with phone number +4538770890, email zecelso@uol.com\"})"
      ]
    },
    {
      "cell_type": "code",
      "execution_count": null,
      "metadata": {
        "colab": {
          "base_uri": "https://localhost:8080/"
        },
        "id": "Z6tVqszixrVr",
        "outputId": "4927b229-f832-4ad9-fe0b-0fd95fad52f0"
      },
      "outputs": [
        {
          "name": "stdout",
          "output_type": "stream",
          "text": [
            "   id             name nickname  phone_number                 email\n",
            "0   1  Ana Maria Braga   MaisVC  +12124567890    anamaria@globo.com\n",
            "1   2     Fausto Silva  Faustao   +4530770800      fausto@globo.com\n",
            "2   4  Thammy Gretchen  Carluxa  +13105867367     tammy@example.com\n",
            "3   6          Ronaldo       R9  +15575867367   fifathebest@uol.com\n",
            "4   8     Rony Rustico     Rony   +4538711490  rony.rustico@uol.com\n",
            "5   9       José Celso       zé   +4538770890       zecelso@uol.com\n"
          ]
        }
      ],
      "source": [
        "print_contacts()"
      ]
    },
    {
      "cell_type": "markdown",
      "metadata": {
        "id": "PR8k7mQvk51t"
      },
      "source": [
        "### Create a chatbot 🤖"
      ]
    },
    {
      "cell_type": "code",
      "execution_count": null,
      "metadata": {
        "id": "ix6nGja5nRFK"
      },
      "outputs": [],
      "source": [
        "%%capture\n",
        "!pip install jupyter_bokeh\n",
        "!pip install panel"
      ]
    },
    {
      "cell_type": "code",
      "execution_count": null,
      "metadata": {
        "colab": {
          "base_uri": "https://localhost:8080/",
          "height": 17
        },
        "id": "jd6eHHRek26-",
        "outputId": "a9817e26-4f99-45d5-b443-1d654fcc6ba6"
      },
      "outputs": [
        {
          "data": {
            "text/html": [
              "<script type=\"esms-options\">{\"shimMode\": true}</script><style>*[data-root-id],\n",
              "*[data-root-id] > * {\n",
              "  box-sizing: border-box;\n",
              "  font-family: var(--jp-ui-font-family);\n",
              "  font-size: var(--jp-ui-font-size1);\n",
              "  color: var(--vscode-editor-foreground, var(--jp-ui-font-color1));\n",
              "}\n",
              "\n",
              "/* Override VSCode background color */\n",
              ".cell-output-ipywidget-background:has(\n",
              "    > .cell-output-ipywidget-background > .lm-Widget > *[data-root-id]\n",
              "  ),\n",
              ".cell-output-ipywidget-background:has(> .lm-Widget > *[data-root-id]) {\n",
              "  background-color: transparent !important;\n",
              "}\n",
              "</style>"
            ]
          },
          "metadata": {},
          "output_type": "display_data"
        },
        {
          "data": {
            "application/javascript": "(function(root) {\n  function now() {\n    return new Date();\n  }\n\n  const force = true;\n  const py_version = '3.7.3'.replace('rc', '-rc.').replace('.dev', '-dev.');\n  const reloading = false;\n  const Bokeh = root.Bokeh;\n\n  // Set a timeout for this load but only if we are not already initializing\n  if (typeof (root._bokeh_timeout) === \"undefined\" || (force || !root._bokeh_is_initializing)) {\n    root._bokeh_timeout = Date.now() + 5000;\n    root._bokeh_failed_load = false;\n  }\n\n  function run_callbacks() {\n    try {\n      root._bokeh_onload_callbacks.forEach(function(callback) {\n        if (callback != null)\n          callback();\n      });\n    } finally {\n      delete root._bokeh_onload_callbacks;\n    }\n    console.debug(\"Bokeh: all callbacks have finished\");\n  }\n\n  function load_libs(css_urls, js_urls, js_modules, js_exports, callback) {\n    if (css_urls == null) css_urls = [];\n    if (js_urls == null) js_urls = [];\n    if (js_modules == null) js_modules = [];\n    if (js_exports == null) js_exports = {};\n\n    root._bokeh_onload_callbacks.push(callback);\n\n    if (root._bokeh_is_loading > 0) {\n      // Don't load bokeh if it is still initializing\n      console.debug(\"Bokeh: BokehJS is being loaded, scheduling callback at\", now());\n      return null;\n    } else if (js_urls.length === 0 && js_modules.length === 0 && Object.keys(js_exports).length === 0) {\n      // There is nothing to load\n      run_callbacks();\n      return null;\n    }\n\n    function on_load() {\n      root._bokeh_is_loading--;\n      if (root._bokeh_is_loading === 0) {\n        console.debug(\"Bokeh: all BokehJS libraries/stylesheets loaded\");\n        run_callbacks()\n      }\n    }\n    window._bokeh_on_load = on_load\n\n    function on_error(e) {\n      const src_el = e.srcElement\n      console.error(\"failed to load \" + (src_el.href || src_el.src));\n    }\n\n    const skip = [];\n    if (window.requirejs) {\n      window.requirejs.config({'packages': {}, 'paths': {}, 'shim': {}});\n      root._bokeh_is_loading = css_urls.length + 0;\n    } else {\n      root._bokeh_is_loading = css_urls.length + js_urls.length + js_modules.length + Object.keys(js_exports).length;\n    }\n\n    const existing_stylesheets = []\n    const links = document.getElementsByTagName('link')\n    for (let i = 0; i < links.length; i++) {\n      const link = links[i]\n      if (link.href != null) {\n        existing_stylesheets.push(link.href)\n      }\n    }\n    for (let i = 0; i < css_urls.length; i++) {\n      const url = css_urls[i];\n      const escaped = encodeURI(url)\n      if (existing_stylesheets.indexOf(escaped) !== -1) {\n        on_load()\n        continue;\n      }\n      const element = document.createElement(\"link\");\n      element.onload = on_load;\n      element.onerror = on_error;\n      element.rel = \"stylesheet\";\n      element.type = \"text/css\";\n      element.href = url;\n      console.debug(\"Bokeh: injecting link tag for BokehJS stylesheet: \", url);\n      document.body.appendChild(element);\n    }    var existing_scripts = []\n    const scripts = document.getElementsByTagName('script')\n    for (let i = 0; i < scripts.length; i++) {\n      var script = scripts[i]\n      if (script.src != null) {\n        existing_scripts.push(script.src)\n      }\n    }\n    for (let i = 0; i < js_urls.length; i++) {\n      const url = js_urls[i];\n      const escaped = encodeURI(url)\n      if (skip.indexOf(escaped) !== -1 || existing_scripts.indexOf(escaped) !== -1) {\n        if (!window.requirejs) {\n          on_load();\n        }\n        continue;\n      }\n      const element = document.createElement('script');\n      element.onload = on_load;\n      element.onerror = on_error;\n      element.async = false;\n      element.src = url;\n      console.debug(\"Bokeh: injecting script tag for BokehJS library: \", url);\n      document.head.appendChild(element);\n    }\n    for (let i = 0; i < js_modules.length; i++) {\n      const url = js_modules[i];\n      const escaped = encodeURI(url)\n      if (skip.indexOf(escaped) !== -1 || existing_scripts.indexOf(escaped) !== -1) {\n        if (!window.requirejs) {\n          on_load();\n        }\n        continue;\n      }\n      var element = document.createElement('script');\n      element.onload = on_load;\n      element.onerror = on_error;\n      element.async = false;\n      element.src = url;\n      element.type = \"module\";\n      console.debug(\"Bokeh: injecting script tag for BokehJS library: \", url);\n      document.head.appendChild(element);\n    }\n    for (const name in js_exports) {\n      const url = js_exports[name];\n      const escaped = encodeURI(url)\n      if (skip.indexOf(escaped) >= 0 || root[name] != null) {\n        if (!window.requirejs) {\n          on_load();\n        }\n        continue;\n      }\n      var element = document.createElement('script');\n      element.onerror = on_error;\n      element.async = false;\n      element.type = \"module\";\n      console.debug(\"Bokeh: injecting script tag for BokehJS library: \", url);\n      element.textContent = `\n      import ${name} from \"${url}\"\n      window.${name} = ${name}\n      window._bokeh_on_load()\n      `\n      document.head.appendChild(element);\n    }\n    if (!js_urls.length && !js_modules.length) {\n      on_load()\n    }\n  };\n\n  function inject_raw_css(css) {\n    const element = document.createElement(\"style\");\n    element.appendChild(document.createTextNode(css));\n    document.body.appendChild(element);\n  }\n\n  const js_urls = [\"https://cdn.holoviz.org/panel/1.6.3/dist/bundled/reactiveesm/es-module-shims@^1.10.0/dist/es-module-shims.min.js\", \"https://cdn.bokeh.org/bokeh/release/bokeh-3.7.3.min.js\", \"https://cdn.bokeh.org/bokeh/release/bokeh-gl-3.7.3.min.js\", \"https://cdn.bokeh.org/bokeh/release/bokeh-widgets-3.7.3.min.js\", \"https://cdn.bokeh.org/bokeh/release/bokeh-tables-3.7.3.min.js\", \"https://cdn.holoviz.org/panel/1.6.3/dist/panel.min.js\"];\n  const js_modules = [];\n  const js_exports = {};\n  const css_urls = [];\n  const inline_js = [    function(Bokeh) {\n      Bokeh.set_log_level(\"info\");\n    },\nfunction(Bokeh) {} // ensure no trailing comma for IE\n  ];\n\n  function run_inline_js() {\n    if ((root.Bokeh !== undefined) || (force === true)) {\n      for (let i = 0; i < inline_js.length; i++) {\n        try {\n          inline_js[i].call(root, root.Bokeh);\n        } catch(e) {\n          if (!reloading) {\n            throw e;\n          }\n        }\n      }\n      // Cache old bokeh versions\n      if (Bokeh != undefined && !reloading) {\n        var NewBokeh = root.Bokeh;\n        if (Bokeh.versions === undefined) {\n          Bokeh.versions = new Map();\n        }\n        if (NewBokeh.version !== Bokeh.version) {\n          Bokeh.versions.set(NewBokeh.version, NewBokeh)\n        }\n        root.Bokeh = Bokeh;\n      }\n    } else if (Date.now() < root._bokeh_timeout) {\n      setTimeout(run_inline_js, 100);\n    } else if (!root._bokeh_failed_load) {\n      console.log(\"Bokeh: BokehJS failed to load within specified timeout.\");\n      root._bokeh_failed_load = true;\n    }\n    root._bokeh_is_initializing = false\n  }\n\n  function load_or_wait() {\n    // Implement a backoff loop that tries to ensure we do not load multiple\n    // versions of Bokeh and its dependencies at the same time.\n    // In recent versions we use the root._bokeh_is_initializing flag\n    // to determine whether there is an ongoing attempt to initialize\n    // bokeh, however for backward compatibility we also try to ensure\n    // that we do not start loading a newer (Panel>=1.0 and Bokeh>3) version\n    // before older versions are fully initialized.\n    if (root._bokeh_is_initializing && Date.now() > root._bokeh_timeout) {\n      // If the timeout and bokeh was not successfully loaded we reset\n      // everything and try loading again\n      root._bokeh_timeout = Date.now() + 5000;\n      root._bokeh_is_initializing = false;\n      root._bokeh_onload_callbacks = undefined;\n      root._bokeh_is_loading = 0\n      console.log(\"Bokeh: BokehJS was loaded multiple times but one version failed to initialize.\");\n      load_or_wait();\n    } else if (root._bokeh_is_initializing || (typeof root._bokeh_is_initializing === \"undefined\" && root._bokeh_onload_callbacks !== undefined)) {\n      setTimeout(load_or_wait, 100);\n    } else {\n      root._bokeh_is_initializing = true\n      root._bokeh_onload_callbacks = []\n      const bokeh_loaded = root.Bokeh != null && (root.Bokeh.version === py_version || (root.Bokeh.versions !== undefined && root.Bokeh.versions.has(py_version)));\n      if (!reloading && !bokeh_loaded) {\n        if (root.Bokeh) {\n          root.Bokeh = undefined;\n        }\n        console.debug(\"Bokeh: BokehJS not loaded, scheduling load and callback at\", now());\n      }\n      load_libs(css_urls, js_urls, js_modules, js_exports, function() {\n        console.debug(\"Bokeh: BokehJS plotting callback run at\", now());\n        run_inline_js();\n      });\n    }\n  }\n  // Give older versions of the autoload script a head-start to ensure\n  // they initialize before we start loading newer version.\n  setTimeout(load_or_wait, 100)\n}(window));",
            "application/vnd.holoviews_load.v0+json": ""
          },
          "metadata": {},
          "output_type": "display_data"
        },
        {
          "data": {
            "application/javascript": "\nif ((window.PyViz === undefined) || (window.PyViz instanceof HTMLElement)) {\n  window.PyViz = {comms: {}, comm_status:{}, kernels:{}, receivers: {}, plot_index: []}\n}\n\n\n    function JupyterCommManager() {\n    }\n\n    JupyterCommManager.prototype.register_target = function(plot_id, comm_id, msg_handler) {\n      if (window.comm_manager || ((window.Jupyter !== undefined) && (Jupyter.notebook.kernel != null))) {\n        var comm_manager = window.comm_manager || Jupyter.notebook.kernel.comm_manager;\n        comm_manager.register_target(comm_id, function(comm) {\n          comm.on_msg(msg_handler);\n        });\n      } else if ((plot_id in window.PyViz.kernels) && (window.PyViz.kernels[plot_id])) {\n        window.PyViz.kernels[plot_id].registerCommTarget(comm_id, function(comm) {\n          comm.onMsg = msg_handler;\n        });\n      } else if (typeof google != 'undefined' && google.colab.kernel != null) {\n        google.colab.kernel.comms.registerTarget(comm_id, (comm) => {\n          var messages = comm.messages[Symbol.asyncIterator]();\n          function processIteratorResult(result) {\n            var message = result.value;\n            console.log(message)\n            var content = {data: message.data, comm_id};\n            var buffers = []\n            for (var buffer of message.buffers || []) {\n              buffers.push(new DataView(buffer))\n            }\n            var metadata = message.metadata || {};\n            var msg = {content, buffers, metadata}\n            msg_handler(msg);\n            return messages.next().then(processIteratorResult);\n          }\n          return messages.next().then(processIteratorResult);\n        })\n      }\n    }\n\n    JupyterCommManager.prototype.get_client_comm = function(plot_id, comm_id, msg_handler) {\n      if (comm_id in window.PyViz.comms) {\n        return window.PyViz.comms[comm_id];\n      } else if (window.comm_manager || ((window.Jupyter !== undefined) && (Jupyter.notebook.kernel != null))) {\n        var comm_manager = window.comm_manager || Jupyter.notebook.kernel.comm_manager;\n        var comm = comm_manager.new_comm(comm_id, {}, {}, {}, comm_id);\n        if (msg_handler) {\n          comm.on_msg(msg_handler);\n        }\n      } else if ((plot_id in window.PyViz.kernels) && (window.PyViz.kernels[plot_id])) {\n        var comm = window.PyViz.kernels[plot_id].connectToComm(comm_id);\n        comm.open();\n        if (msg_handler) {\n          comm.onMsg = msg_handler;\n        }\n      } else if (typeof google != 'undefined' && google.colab.kernel != null) {\n        var comm_promise = google.colab.kernel.comms.open(comm_id)\n        comm_promise.then((comm) => {\n          window.PyViz.comms[comm_id] = comm;\n          if (msg_handler) {\n            var messages = comm.messages[Symbol.asyncIterator]();\n            function processIteratorResult(result) {\n              var message = result.value;\n              var content = {data: message.data};\n              var metadata = message.metadata || {comm_id};\n              var msg = {content, metadata}\n              msg_handler(msg);\n              return messages.next().then(processIteratorResult);\n            }\n            return messages.next().then(processIteratorResult);\n          }\n        })\n        var sendClosure = (data, metadata, buffers, disposeOnDone) => {\n          return comm_promise.then((comm) => {\n            comm.send(data, metadata, buffers, disposeOnDone);\n          });\n        };\n        var comm = {\n          send: sendClosure\n        };\n      }\n      window.PyViz.comms[comm_id] = comm;\n      return comm;\n    }\n    window.PyViz.comm_manager = new JupyterCommManager();\n    \n\n\nvar JS_MIME_TYPE = 'application/javascript';\nvar HTML_MIME_TYPE = 'text/html';\nvar EXEC_MIME_TYPE = 'application/vnd.holoviews_exec.v0+json';\nvar CLASS_NAME = 'output';\n\n/**\n * Render data to the DOM node\n */\nfunction render(props, node) {\n  var div = document.createElement(\"div\");\n  var script = document.createElement(\"script\");\n  node.appendChild(div);\n  node.appendChild(script);\n}\n\n/**\n * Handle when a new output is added\n */\nfunction handle_add_output(event, handle) {\n  var output_area = handle.output_area;\n  var output = handle.output;\n  if ((output.data == undefined) || (!output.data.hasOwnProperty(EXEC_MIME_TYPE))) {\n    return\n  }\n  var id = output.metadata[EXEC_MIME_TYPE][\"id\"];\n  var toinsert = output_area.element.find(\".\" + CLASS_NAME.split(' ')[0]);\n  if (id !== undefined) {\n    var nchildren = toinsert.length;\n    var html_node = toinsert[nchildren-1].children[0];\n    html_node.innerHTML = output.data[HTML_MIME_TYPE];\n    var scripts = [];\n    var nodelist = html_node.querySelectorAll(\"script\");\n    for (var i in nodelist) {\n      if (nodelist.hasOwnProperty(i)) {\n        scripts.push(nodelist[i])\n      }\n    }\n\n    scripts.forEach( function (oldScript) {\n      var newScript = document.createElement(\"script\");\n      var attrs = [];\n      var nodemap = oldScript.attributes;\n      for (var j in nodemap) {\n        if (nodemap.hasOwnProperty(j)) {\n          attrs.push(nodemap[j])\n        }\n      }\n      attrs.forEach(function(attr) { newScript.setAttribute(attr.name, attr.value) });\n      newScript.appendChild(document.createTextNode(oldScript.innerHTML));\n      oldScript.parentNode.replaceChild(newScript, oldScript);\n    });\n    if (JS_MIME_TYPE in output.data) {\n      toinsert[nchildren-1].children[1].textContent = output.data[JS_MIME_TYPE];\n    }\n    output_area._hv_plot_id = id;\n    if ((window.Bokeh !== undefined) && (id in Bokeh.index)) {\n      window.PyViz.plot_index[id] = Bokeh.index[id];\n    } else {\n      window.PyViz.plot_index[id] = null;\n    }\n  } else if (output.metadata[EXEC_MIME_TYPE][\"server_id\"] !== undefined) {\n    var bk_div = document.createElement(\"div\");\n    bk_div.innerHTML = output.data[HTML_MIME_TYPE];\n    var script_attrs = bk_div.children[0].attributes;\n    for (var i = 0; i < script_attrs.length; i++) {\n      toinsert[toinsert.length - 1].childNodes[1].setAttribute(script_attrs[i].name, script_attrs[i].value);\n    }\n    // store reference to server id on output_area\n    output_area._bokeh_server_id = output.metadata[EXEC_MIME_TYPE][\"server_id\"];\n  }\n}\n\n/**\n * Handle when an output is cleared or removed\n */\nfunction handle_clear_output(event, handle) {\n  var id = handle.cell.output_area._hv_plot_id;\n  var server_id = handle.cell.output_area._bokeh_server_id;\n  if (((id === undefined) || !(id in PyViz.plot_index)) && (server_id !== undefined)) { return; }\n  var comm = window.PyViz.comm_manager.get_client_comm(\"hv-extension-comm\", \"hv-extension-comm\", function () {});\n  if (server_id !== null) {\n    comm.send({event_type: 'server_delete', 'id': server_id});\n    return;\n  } else if (comm !== null) {\n    comm.send({event_type: 'delete', 'id': id});\n  }\n  delete PyViz.plot_index[id];\n  if ((window.Bokeh !== undefined) & (id in window.Bokeh.index)) {\n    var doc = window.Bokeh.index[id].model.document\n    doc.clear();\n    const i = window.Bokeh.documents.indexOf(doc);\n    if (i > -1) {\n      window.Bokeh.documents.splice(i, 1);\n    }\n  }\n}\n\n/**\n * Handle kernel restart event\n */\nfunction handle_kernel_cleanup(event, handle) {\n  delete PyViz.comms[\"hv-extension-comm\"];\n  window.PyViz.plot_index = {}\n}\n\n/**\n * Handle update_display_data messages\n */\nfunction handle_update_output(event, handle) {\n  handle_clear_output(event, {cell: {output_area: handle.output_area}})\n  handle_add_output(event, handle)\n}\n\nfunction register_renderer(events, OutputArea) {\n  function append_mime(data, metadata, element) {\n    // create a DOM node to render to\n    var toinsert = this.create_output_subarea(\n    metadata,\n    CLASS_NAME,\n    EXEC_MIME_TYPE\n    );\n    this.keyboard_manager.register_events(toinsert);\n    // Render to node\n    var props = {data: data, metadata: metadata[EXEC_MIME_TYPE]};\n    render(props, toinsert[0]);\n    element.append(toinsert);\n    return toinsert\n  }\n\n  events.on('output_added.OutputArea', handle_add_output);\n  events.on('output_updated.OutputArea', handle_update_output);\n  events.on('clear_output.CodeCell', handle_clear_output);\n  events.on('delete.Cell', handle_clear_output);\n  events.on('kernel_ready.Kernel', handle_kernel_cleanup);\n\n  OutputArea.prototype.register_mime_type(EXEC_MIME_TYPE, append_mime, {\n    safe: true,\n    index: 0\n  });\n}\n\nif (window.Jupyter !== undefined) {\n  try {\n    var events = require('base/js/events');\n    var OutputArea = require('notebook/js/outputarea').OutputArea;\n    if (OutputArea.prototype.mime_types().indexOf(EXEC_MIME_TYPE) == -1) {\n      register_renderer(events, OutputArea);\n    }\n  } catch(err) {\n  }\n}\n",
            "application/vnd.holoviews_load.v0+json": ""
          },
          "metadata": {},
          "output_type": "display_data"
        },
        {
          "data": {
            "application/vnd.holoviews_exec.v0+json": "",
            "text/html": [
              "<div id='c0fb6463-4f2f-4faf-aaaa-fc9eb8807285'>\n",
              "  <div id=\"f6134b1d-6fa7-466b-af83-7d1b5e066329\" data-root-id=\"c0fb6463-4f2f-4faf-aaaa-fc9eb8807285\" style=\"display: contents;\"></div>\n",
              "</div>\n",
              "<script type=\"application/javascript\">(function(root) {\n",
              "  var docs_json = {\"162af7df-244b-446d-aecd-440935334a56\":{\"version\":\"3.7.3\",\"title\":\"Bokeh Application\",\"roots\":[{\"type\":\"object\",\"name\":\"panel.models.browser.BrowserInfo\",\"id\":\"c0fb6463-4f2f-4faf-aaaa-fc9eb8807285\"},{\"type\":\"object\",\"name\":\"panel.models.comm_manager.CommManager\",\"id\":\"d3bc9266-055b-4804-8461-8f66aaf1de5f\",\"attributes\":{\"plot_id\":\"c0fb6463-4f2f-4faf-aaaa-fc9eb8807285\",\"comm_id\":\"e952df68fc3c4f70bdc4a88838461418\",\"client_comm_id\":\"e824d0189e6b4788ba136c0c86e76e2f\"}}],\"defs\":[{\"type\":\"model\",\"name\":\"ReactiveHTML1\"},{\"type\":\"model\",\"name\":\"FlexBox1\",\"properties\":[{\"name\":\"align_content\",\"kind\":\"Any\",\"default\":\"flex-start\"},{\"name\":\"align_items\",\"kind\":\"Any\",\"default\":\"flex-start\"},{\"name\":\"flex_direction\",\"kind\":\"Any\",\"default\":\"row\"},{\"name\":\"flex_wrap\",\"kind\":\"Any\",\"default\":\"wrap\"},{\"name\":\"gap\",\"kind\":\"Any\",\"default\":\"\"},{\"name\":\"justify_content\",\"kind\":\"Any\",\"default\":\"flex-start\"}]},{\"type\":\"model\",\"name\":\"FloatPanel1\",\"properties\":[{\"name\":\"config\",\"kind\":\"Any\",\"default\":{\"type\":\"map\"}},{\"name\":\"contained\",\"kind\":\"Any\",\"default\":true},{\"name\":\"position\",\"kind\":\"Any\",\"default\":\"right-top\"},{\"name\":\"offsetx\",\"kind\":\"Any\",\"default\":null},{\"name\":\"offsety\",\"kind\":\"Any\",\"default\":null},{\"name\":\"theme\",\"kind\":\"Any\",\"default\":\"primary\"},{\"name\":\"status\",\"kind\":\"Any\",\"default\":\"normalized\"}]},{\"type\":\"model\",\"name\":\"GridStack1\",\"properties\":[{\"name\":\"ncols\",\"kind\":\"Any\",\"default\":null},{\"name\":\"nrows\",\"kind\":\"Any\",\"default\":null},{\"name\":\"allow_resize\",\"kind\":\"Any\",\"default\":true},{\"name\":\"allow_drag\",\"kind\":\"Any\",\"default\":true},{\"name\":\"state\",\"kind\":\"Any\",\"default\":[]}]},{\"type\":\"model\",\"name\":\"drag1\",\"properties\":[{\"name\":\"slider_width\",\"kind\":\"Any\",\"default\":5},{\"name\":\"slider_color\",\"kind\":\"Any\",\"default\":\"black\"},{\"name\":\"value\",\"kind\":\"Any\",\"default\":50}]},{\"type\":\"model\",\"name\":\"click1\",\"properties\":[{\"name\":\"terminal_output\",\"kind\":\"Any\",\"default\":\"\"},{\"name\":\"debug_name\",\"kind\":\"Any\",\"default\":\"\"},{\"name\":\"clears\",\"kind\":\"Any\",\"default\":0}]},{\"type\":\"model\",\"name\":\"FastWrapper1\",\"properties\":[{\"name\":\"object\",\"kind\":\"Any\",\"default\":null},{\"name\":\"style\",\"kind\":\"Any\",\"default\":null}]},{\"type\":\"model\",\"name\":\"NotificationArea1\",\"properties\":[{\"name\":\"js_events\",\"kind\":\"Any\",\"default\":{\"type\":\"map\"}},{\"name\":\"max_notifications\",\"kind\":\"Any\",\"default\":5},{\"name\":\"notifications\",\"kind\":\"Any\",\"default\":[]},{\"name\":\"position\",\"kind\":\"Any\",\"default\":\"bottom-right\"},{\"name\":\"_clear\",\"kind\":\"Any\",\"default\":0},{\"name\":\"types\",\"kind\":\"Any\",\"default\":[{\"type\":\"map\",\"entries\":[[\"type\",\"warning\"],[\"background\",\"#ffc107\"],[\"icon\",{\"type\":\"map\",\"entries\":[[\"className\",\"fas fa-exclamation-triangle\"],[\"tagName\",\"i\"],[\"color\",\"white\"]]}]]},{\"type\":\"map\",\"entries\":[[\"type\",\"info\"],[\"background\",\"#007bff\"],[\"icon\",{\"type\":\"map\",\"entries\":[[\"className\",\"fas fa-info-circle\"],[\"tagName\",\"i\"],[\"color\",\"white\"]]}]]}]}]},{\"type\":\"model\",\"name\":\"Notification\",\"properties\":[{\"name\":\"background\",\"kind\":\"Any\",\"default\":null},{\"name\":\"duration\",\"kind\":\"Any\",\"default\":3000},{\"name\":\"icon\",\"kind\":\"Any\",\"default\":null},{\"name\":\"message\",\"kind\":\"Any\",\"default\":\"\"},{\"name\":\"notification_type\",\"kind\":\"Any\",\"default\":null},{\"name\":\"_rendered\",\"kind\":\"Any\",\"default\":false},{\"name\":\"_destroyed\",\"kind\":\"Any\",\"default\":false}]},{\"type\":\"model\",\"name\":\"TemplateActions1\",\"properties\":[{\"name\":\"open_modal\",\"kind\":\"Any\",\"default\":0},{\"name\":\"close_modal\",\"kind\":\"Any\",\"default\":0}]},{\"type\":\"model\",\"name\":\"BootstrapTemplateActions1\",\"properties\":[{\"name\":\"open_modal\",\"kind\":\"Any\",\"default\":0},{\"name\":\"close_modal\",\"kind\":\"Any\",\"default\":0}]},{\"type\":\"model\",\"name\":\"TemplateEditor1\",\"properties\":[{\"name\":\"layout\",\"kind\":\"Any\",\"default\":[]}]},{\"type\":\"model\",\"name\":\"MaterialTemplateActions1\",\"properties\":[{\"name\":\"open_modal\",\"kind\":\"Any\",\"default\":0},{\"name\":\"close_modal\",\"kind\":\"Any\",\"default\":0}]},{\"type\":\"model\",\"name\":\"ReactiveESM1\",\"properties\":[{\"name\":\"esm_constants\",\"kind\":\"Any\",\"default\":{\"type\":\"map\"}}]},{\"type\":\"model\",\"name\":\"JSComponent1\",\"properties\":[{\"name\":\"esm_constants\",\"kind\":\"Any\",\"default\":{\"type\":\"map\"}}]},{\"type\":\"model\",\"name\":\"ReactComponent1\",\"properties\":[{\"name\":\"esm_constants\",\"kind\":\"Any\",\"default\":{\"type\":\"map\"}}]},{\"type\":\"model\",\"name\":\"AnyWidgetComponent1\",\"properties\":[{\"name\":\"esm_constants\",\"kind\":\"Any\",\"default\":{\"type\":\"map\"}}]},{\"type\":\"model\",\"name\":\"request_value1\",\"properties\":[{\"name\":\"fill\",\"kind\":\"Any\",\"default\":\"none\"},{\"name\":\"_synced\",\"kind\":\"Any\",\"default\":null},{\"name\":\"_request_sync\",\"kind\":\"Any\",\"default\":0}]}]}};\n",
              "  var render_items = [{\"docid\":\"162af7df-244b-446d-aecd-440935334a56\",\"roots\":{\"c0fb6463-4f2f-4faf-aaaa-fc9eb8807285\":\"f6134b1d-6fa7-466b-af83-7d1b5e066329\"},\"root_ids\":[\"c0fb6463-4f2f-4faf-aaaa-fc9eb8807285\"]}];\n",
              "  var docs = Object.values(docs_json)\n",
              "  if (!docs) {\n",
              "    return\n",
              "  }\n",
              "  const py_version = docs[0].version.replace('rc', '-rc.').replace('.dev', '-dev.')\n",
              "  async function embed_document(root) {\n",
              "    var Bokeh = get_bokeh(root)\n",
              "    await Bokeh.embed.embed_items_notebook(docs_json, render_items);\n",
              "    for (const render_item of render_items) {\n",
              "      for (const root_id of render_item.root_ids) {\n",
              "\tconst id_el = document.getElementById(root_id)\n",
              "\tif (id_el.children.length && id_el.children[0].hasAttribute('data-root-id')) {\n",
              "\t  const root_el = id_el.children[0]\n",
              "\t  root_el.id = root_el.id + '-rendered'\n",
              "\t  for (const child of root_el.children) {\n",
              "            // Ensure JupyterLab does not capture keyboard shortcuts\n",
              "            // see: https://jupyterlab.readthedocs.io/en/4.1.x/extension/notebook.html#keyboard-interaction-model\n",
              "\t    child.setAttribute('data-lm-suppress-shortcuts', 'true')\n",
              "\t  }\n",
              "\t}\n",
              "      }\n",
              "    }\n",
              "  }\n",
              "  function get_bokeh(root) {\n",
              "    if (root.Bokeh === undefined) {\n",
              "      return null\n",
              "    } else if (root.Bokeh.version !== py_version) {\n",
              "      if (root.Bokeh.versions === undefined || !root.Bokeh.versions.has(py_version)) {\n",
              "\treturn null\n",
              "      }\n",
              "      return root.Bokeh.versions.get(py_version);\n",
              "    } else if (root.Bokeh.version === py_version) {\n",
              "      return root.Bokeh\n",
              "    }\n",
              "    return null\n",
              "  }\n",
              "  function is_loaded(root) {\n",
              "    var Bokeh = get_bokeh(root)\n",
              "    return (Bokeh != null && Bokeh.Panel !== undefined)\n",
              "  }\n",
              "  if (is_loaded(root)) {\n",
              "    embed_document(root);\n",
              "  } else {\n",
              "    var attempts = 0;\n",
              "    var timer = setInterval(function(root) {\n",
              "      if (is_loaded(root)) {\n",
              "        clearInterval(timer);\n",
              "        embed_document(root);\n",
              "      } else if (document.readyState == \"complete\") {\n",
              "        attempts++;\n",
              "        if (attempts > 200) {\n",
              "          clearInterval(timer);\n",
              "\t  var Bokeh = get_bokeh(root)\n",
              "\t  if (Bokeh == null || Bokeh.Panel == null) {\n",
              "            console.warn(\"Panel: ERROR: Unable to run Panel code because Bokeh or Panel library is missing\");\n",
              "\t  } else {\n",
              "\t    console.warn(\"Panel: WARNING: Attempting to render but not all required libraries could be resolved.\")\n",
              "\t    embed_document(root)\n",
              "\t  }\n",
              "        }\n",
              "      }\n",
              "    }, 25, root)\n",
              "  }\n",
              "})(window);</script>"
            ]
          },
          "metadata": {
            "application/vnd.holoviews_exec.v0+json": {
              "id": "c0fb6463-4f2f-4faf-aaaa-fc9eb8807285"
            }
          },
          "output_type": "display_data"
        }
      ],
      "source": [
        "import panel as pn  # GUI\n",
        "pn.extension()\n",
        "import panel as pn\n",
        "import param\n",
        "\n",
        "class WesleySafa(param.Parameterized):\n",
        "    \"\"\" Conversational Agent Chatbot. Takes tools_box as input. \"\"\"\n",
        "    def __init__(self, tools, **params):\n",
        "        super(WesleySafa, self).__init__( **params)\n",
        "        self.panels = []\n",
        "        self.functions = [convert_to_anthropic_tool(f) for f in tools]\n",
        "        self.model = ChatAnthropic(model=\"claude-3-7-sonnet-20250219\",\n",
        "                                   temperature=0).bind(tools=self.functions)\n",
        "        self.memory = ConversationBufferMemory(return_messages=True,memory_key=\"chat_history\")\n",
        "        self.prompt = ChatPromptTemplate.from_messages([\n",
        "            (\"system\", \"You are helpful personal assitant called Wesley Safadão. Keep your answers short and friendly.\"),\n",
        "            MessagesPlaceholder(variable_name=\"chat_history\"),\n",
        "            (\"user\", \"{input}\"),\n",
        "            MessagesPlaceholder(variable_name=\"agent_scratchpad\")\n",
        "        ])\n",
        "        self.chain = RunnablePassthrough.assign(\n",
        "            agent_scratchpad = lambda x: format_to_tool_messages(x[\"intermediate_steps\"])\n",
        "        ) | self.prompt | self.model | ToolsAgentOutputParser()\n",
        "        self.qa = AgentExecutor(agent=self.chain, tools=tools, verbose=False, memory=self.memory)\n",
        "\n",
        "    def convchain(self, query):\n",
        "        if not query:\n",
        "            return\n",
        "        inp.value = ''\n",
        "        result = self.qa.invoke({\"input\": query})\n",
        "        self.answer = result['output'][0][\"text\"]\n",
        "        self.panels.extend([\n",
        "            pn.Row('User:', pn.pane.Markdown(query, width=450)),\n",
        "            pn.Row('ChatBot:', pn.pane.Markdown(self.answer, width=450, styles={'background-color': '#F6F6F6'}))\n",
        "        ])\n",
        "        return pn.WidgetBox(*self.panels, scroll=True)\n",
        "        # return self.answer\n",
        "\n",
        "\n",
        "    def clr_history(self,count=0):\n",
        "        self.chat_history = []\n",
        "        return"
      ]
    },
    {
      "cell_type": "code",
      "execution_count": null,
      "metadata": {
        "id": "qOFfksePtbdG"
      },
      "outputs": [],
      "source": [
        "# Use this if want to return only self.answer\n",
        "\n",
        "# cb = WesleySafa(tools)\n",
        "\n",
        "# conversation = cb.convchain(\"Hello!\")\n",
        "\n",
        "# conversation"
      ]
    },
    {
      "cell_type": "code",
      "execution_count": null,
      "metadata": {
        "colab": {
          "base_uri": "https://localhost:8080/"
        },
        "id": "JKkq35u9vbFj",
        "outputId": "ca893327-dfe7-415c-8ec1-4b7c84a4e9fc"
      },
      "outputs": [
        {
          "name": "stdout",
          "output_type": "stream",
          "text": [
            "   id              name nickname  phone_number                 email\n",
            "0   1   Ana Maria Braga   MaisVC  +12124567890    anamaria@globo.com\n",
            "1   2      Fausto Silva  Faustao   +4530770800      fausto@globo.com\n",
            "2   4   Thammy Gretchen  Carluxa  +13105867367     tammy@example.com\n",
            "3   5  Carlos Bolsonaro  Carluxo   +4538770890                  None\n",
            "4   6           Ronaldo       R9  +15575867367   fifathebest@uol.com\n",
            "5   8      Rony Rustico     Rony   +4538711490  rony.rustico@uol.com\n"
          ]
        }
      ],
      "source": [
        "print_contacts()"
      ]
    },
    {
      "cell_type": "code",
      "execution_count": null,
      "metadata": {
        "colab": {
          "base_uri": "https://localhost:8080/",
          "height": 636
        },
        "id": "rGzSCKAFk23g",
        "outputId": "c78d6a49-87d7-4048-8977-a014cf6780c7"
      },
      "outputs": [
        {
          "data": {
            "text/html": [
              "<script type=\"esms-options\">{\"shimMode\": true}</script><style>*[data-root-id],\n",
              "*[data-root-id] > * {\n",
              "  box-sizing: border-box;\n",
              "  font-family: var(--jp-ui-font-family);\n",
              "  font-size: var(--jp-ui-font-size1);\n",
              "  color: var(--vscode-editor-foreground, var(--jp-ui-font-color1));\n",
              "}\n",
              "\n",
              "/* Override VSCode background color */\n",
              ".cell-output-ipywidget-background:has(\n",
              "    > .cell-output-ipywidget-background > .lm-Widget > *[data-root-id]\n",
              "  ),\n",
              ".cell-output-ipywidget-background:has(> .lm-Widget > *[data-root-id]) {\n",
              "  background-color: transparent !important;\n",
              "}\n",
              "</style>"
            ]
          },
          "metadata": {},
          "output_type": "display_data"
        },
        {
          "data": {
            "application/javascript": "(function(root) {\n  function now() {\n    return new Date();\n  }\n\n  const force = true;\n  const py_version = '3.7.3'.replace('rc', '-rc.').replace('.dev', '-dev.');\n  const reloading = false;\n  const Bokeh = root.Bokeh;\n\n  // Set a timeout for this load but only if we are not already initializing\n  if (typeof (root._bokeh_timeout) === \"undefined\" || (force || !root._bokeh_is_initializing)) {\n    root._bokeh_timeout = Date.now() + 5000;\n    root._bokeh_failed_load = false;\n  }\n\n  function run_callbacks() {\n    try {\n      root._bokeh_onload_callbacks.forEach(function(callback) {\n        if (callback != null)\n          callback();\n      });\n    } finally {\n      delete root._bokeh_onload_callbacks;\n    }\n    console.debug(\"Bokeh: all callbacks have finished\");\n  }\n\n  function load_libs(css_urls, js_urls, js_modules, js_exports, callback) {\n    if (css_urls == null) css_urls = [];\n    if (js_urls == null) js_urls = [];\n    if (js_modules == null) js_modules = [];\n    if (js_exports == null) js_exports = {};\n\n    root._bokeh_onload_callbacks.push(callback);\n\n    if (root._bokeh_is_loading > 0) {\n      // Don't load bokeh if it is still initializing\n      console.debug(\"Bokeh: BokehJS is being loaded, scheduling callback at\", now());\n      return null;\n    } else if (js_urls.length === 0 && js_modules.length === 0 && Object.keys(js_exports).length === 0) {\n      // There is nothing to load\n      run_callbacks();\n      return null;\n    }\n\n    function on_load() {\n      root._bokeh_is_loading--;\n      if (root._bokeh_is_loading === 0) {\n        console.debug(\"Bokeh: all BokehJS libraries/stylesheets loaded\");\n        run_callbacks()\n      }\n    }\n    window._bokeh_on_load = on_load\n\n    function on_error(e) {\n      const src_el = e.srcElement\n      console.error(\"failed to load \" + (src_el.href || src_el.src));\n    }\n\n    const skip = [];\n    if (window.requirejs) {\n      window.requirejs.config({'packages': {}, 'paths': {}, 'shim': {}});\n      root._bokeh_is_loading = css_urls.length + 0;\n    } else {\n      root._bokeh_is_loading = css_urls.length + js_urls.length + js_modules.length + Object.keys(js_exports).length;\n    }\n\n    const existing_stylesheets = []\n    const links = document.getElementsByTagName('link')\n    for (let i = 0; i < links.length; i++) {\n      const link = links[i]\n      if (link.href != null) {\n        existing_stylesheets.push(link.href)\n      }\n    }\n    for (let i = 0; i < css_urls.length; i++) {\n      const url = css_urls[i];\n      const escaped = encodeURI(url)\n      if (existing_stylesheets.indexOf(escaped) !== -1) {\n        on_load()\n        continue;\n      }\n      const element = document.createElement(\"link\");\n      element.onload = on_load;\n      element.onerror = on_error;\n      element.rel = \"stylesheet\";\n      element.type = \"text/css\";\n      element.href = url;\n      console.debug(\"Bokeh: injecting link tag for BokehJS stylesheet: \", url);\n      document.body.appendChild(element);\n    }    var existing_scripts = []\n    const scripts = document.getElementsByTagName('script')\n    for (let i = 0; i < scripts.length; i++) {\n      var script = scripts[i]\n      if (script.src != null) {\n        existing_scripts.push(script.src)\n      }\n    }\n    for (let i = 0; i < js_urls.length; i++) {\n      const url = js_urls[i];\n      const escaped = encodeURI(url)\n      if (skip.indexOf(escaped) !== -1 || existing_scripts.indexOf(escaped) !== -1) {\n        if (!window.requirejs) {\n          on_load();\n        }\n        continue;\n      }\n      const element = document.createElement('script');\n      element.onload = on_load;\n      element.onerror = on_error;\n      element.async = false;\n      element.src = url;\n      console.debug(\"Bokeh: injecting script tag for BokehJS library: \", url);\n      document.head.appendChild(element);\n    }\n    for (let i = 0; i < js_modules.length; i++) {\n      const url = js_modules[i];\n      const escaped = encodeURI(url)\n      if (skip.indexOf(escaped) !== -1 || existing_scripts.indexOf(escaped) !== -1) {\n        if (!window.requirejs) {\n          on_load();\n        }\n        continue;\n      }\n      var element = document.createElement('script');\n      element.onload = on_load;\n      element.onerror = on_error;\n      element.async = false;\n      element.src = url;\n      element.type = \"module\";\n      console.debug(\"Bokeh: injecting script tag for BokehJS library: \", url);\n      document.head.appendChild(element);\n    }\n    for (const name in js_exports) {\n      const url = js_exports[name];\n      const escaped = encodeURI(url)\n      if (skip.indexOf(escaped) >= 0 || root[name] != null) {\n        if (!window.requirejs) {\n          on_load();\n        }\n        continue;\n      }\n      var element = document.createElement('script');\n      element.onerror = on_error;\n      element.async = false;\n      element.type = \"module\";\n      console.debug(\"Bokeh: injecting script tag for BokehJS library: \", url);\n      element.textContent = `\n      import ${name} from \"${url}\"\n      window.${name} = ${name}\n      window._bokeh_on_load()\n      `\n      document.head.appendChild(element);\n    }\n    if (!js_urls.length && !js_modules.length) {\n      on_load()\n    }\n  };\n\n  function inject_raw_css(css) {\n    const element = document.createElement(\"style\");\n    element.appendChild(document.createTextNode(css));\n    document.body.appendChild(element);\n  }\n\n  const js_urls = [\"https://cdn.holoviz.org/panel/1.6.3/dist/bundled/reactiveesm/es-module-shims@^1.10.0/dist/es-module-shims.min.js\", \"https://cdn.bokeh.org/bokeh/release/bokeh-3.7.3.min.js\", \"https://cdn.bokeh.org/bokeh/release/bokeh-gl-3.7.3.min.js\", \"https://cdn.bokeh.org/bokeh/release/bokeh-widgets-3.7.3.min.js\", \"https://cdn.bokeh.org/bokeh/release/bokeh-tables-3.7.3.min.js\", \"https://cdn.holoviz.org/panel/1.6.3/dist/panel.min.js\"];\n  const js_modules = [];\n  const js_exports = {};\n  const css_urls = [];\n  const inline_js = [    function(Bokeh) {\n      Bokeh.set_log_level(\"info\");\n    },\nfunction(Bokeh) {} // ensure no trailing comma for IE\n  ];\n\n  function run_inline_js() {\n    if ((root.Bokeh !== undefined) || (force === true)) {\n      for (let i = 0; i < inline_js.length; i++) {\n        try {\n          inline_js[i].call(root, root.Bokeh);\n        } catch(e) {\n          if (!reloading) {\n            throw e;\n          }\n        }\n      }\n      // Cache old bokeh versions\n      if (Bokeh != undefined && !reloading) {\n        var NewBokeh = root.Bokeh;\n        if (Bokeh.versions === undefined) {\n          Bokeh.versions = new Map();\n        }\n        if (NewBokeh.version !== Bokeh.version) {\n          Bokeh.versions.set(NewBokeh.version, NewBokeh)\n        }\n        root.Bokeh = Bokeh;\n      }\n    } else if (Date.now() < root._bokeh_timeout) {\n      setTimeout(run_inline_js, 100);\n    } else if (!root._bokeh_failed_load) {\n      console.log(\"Bokeh: BokehJS failed to load within specified timeout.\");\n      root._bokeh_failed_load = true;\n    }\n    root._bokeh_is_initializing = false\n  }\n\n  function load_or_wait() {\n    // Implement a backoff loop that tries to ensure we do not load multiple\n    // versions of Bokeh and its dependencies at the same time.\n    // In recent versions we use the root._bokeh_is_initializing flag\n    // to determine whether there is an ongoing attempt to initialize\n    // bokeh, however for backward compatibility we also try to ensure\n    // that we do not start loading a newer (Panel>=1.0 and Bokeh>3) version\n    // before older versions are fully initialized.\n    if (root._bokeh_is_initializing && Date.now() > root._bokeh_timeout) {\n      // If the timeout and bokeh was not successfully loaded we reset\n      // everything and try loading again\n      root._bokeh_timeout = Date.now() + 5000;\n      root._bokeh_is_initializing = false;\n      root._bokeh_onload_callbacks = undefined;\n      root._bokeh_is_loading = 0\n      console.log(\"Bokeh: BokehJS was loaded multiple times but one version failed to initialize.\");\n      load_or_wait();\n    } else if (root._bokeh_is_initializing || (typeof root._bokeh_is_initializing === \"undefined\" && root._bokeh_onload_callbacks !== undefined)) {\n      setTimeout(load_or_wait, 100);\n    } else {\n      root._bokeh_is_initializing = true\n      root._bokeh_onload_callbacks = []\n      const bokeh_loaded = root.Bokeh != null && (root.Bokeh.version === py_version || (root.Bokeh.versions !== undefined && root.Bokeh.versions.has(py_version)));\n      if (!reloading && !bokeh_loaded) {\n        if (root.Bokeh) {\n          root.Bokeh = undefined;\n        }\n        console.debug(\"Bokeh: BokehJS not loaded, scheduling load and callback at\", now());\n      }\n      load_libs(css_urls, js_urls, js_modules, js_exports, function() {\n        console.debug(\"Bokeh: BokehJS plotting callback run at\", now());\n        run_inline_js();\n      });\n    }\n  }\n  // Give older versions of the autoload script a head-start to ensure\n  // they initialize before we start loading newer version.\n  setTimeout(load_or_wait, 100)\n}(window));",
            "application/vnd.holoviews_load.v0+json": ""
          },
          "metadata": {},
          "output_type": "display_data"
        },
        {
          "data": {
            "application/javascript": "\nif ((window.PyViz === undefined) || (window.PyViz instanceof HTMLElement)) {\n  window.PyViz = {comms: {}, comm_status:{}, kernels:{}, receivers: {}, plot_index: []}\n}\n\n\n    function JupyterCommManager() {\n    }\n\n    JupyterCommManager.prototype.register_target = function(plot_id, comm_id, msg_handler) {\n      if (window.comm_manager || ((window.Jupyter !== undefined) && (Jupyter.notebook.kernel != null))) {\n        var comm_manager = window.comm_manager || Jupyter.notebook.kernel.comm_manager;\n        comm_manager.register_target(comm_id, function(comm) {\n          comm.on_msg(msg_handler);\n        });\n      } else if ((plot_id in window.PyViz.kernels) && (window.PyViz.kernels[plot_id])) {\n        window.PyViz.kernels[plot_id].registerCommTarget(comm_id, function(comm) {\n          comm.onMsg = msg_handler;\n        });\n      } else if (typeof google != 'undefined' && google.colab.kernel != null) {\n        google.colab.kernel.comms.registerTarget(comm_id, (comm) => {\n          var messages = comm.messages[Symbol.asyncIterator]();\n          function processIteratorResult(result) {\n            var message = result.value;\n            console.log(message)\n            var content = {data: message.data, comm_id};\n            var buffers = []\n            for (var buffer of message.buffers || []) {\n              buffers.push(new DataView(buffer))\n            }\n            var metadata = message.metadata || {};\n            var msg = {content, buffers, metadata}\n            msg_handler(msg);\n            return messages.next().then(processIteratorResult);\n          }\n          return messages.next().then(processIteratorResult);\n        })\n      }\n    }\n\n    JupyterCommManager.prototype.get_client_comm = function(plot_id, comm_id, msg_handler) {\n      if (comm_id in window.PyViz.comms) {\n        return window.PyViz.comms[comm_id];\n      } else if (window.comm_manager || ((window.Jupyter !== undefined) && (Jupyter.notebook.kernel != null))) {\n        var comm_manager = window.comm_manager || Jupyter.notebook.kernel.comm_manager;\n        var comm = comm_manager.new_comm(comm_id, {}, {}, {}, comm_id);\n        if (msg_handler) {\n          comm.on_msg(msg_handler);\n        }\n      } else if ((plot_id in window.PyViz.kernels) && (window.PyViz.kernels[plot_id])) {\n        var comm = window.PyViz.kernels[plot_id].connectToComm(comm_id);\n        comm.open();\n        if (msg_handler) {\n          comm.onMsg = msg_handler;\n        }\n      } else if (typeof google != 'undefined' && google.colab.kernel != null) {\n        var comm_promise = google.colab.kernel.comms.open(comm_id)\n        comm_promise.then((comm) => {\n          window.PyViz.comms[comm_id] = comm;\n          if (msg_handler) {\n            var messages = comm.messages[Symbol.asyncIterator]();\n            function processIteratorResult(result) {\n              var message = result.value;\n              var content = {data: message.data};\n              var metadata = message.metadata || {comm_id};\n              var msg = {content, metadata}\n              msg_handler(msg);\n              return messages.next().then(processIteratorResult);\n            }\n            return messages.next().then(processIteratorResult);\n          }\n        })\n        var sendClosure = (data, metadata, buffers, disposeOnDone) => {\n          return comm_promise.then((comm) => {\n            comm.send(data, metadata, buffers, disposeOnDone);\n          });\n        };\n        var comm = {\n          send: sendClosure\n        };\n      }\n      window.PyViz.comms[comm_id] = comm;\n      return comm;\n    }\n    window.PyViz.comm_manager = new JupyterCommManager();\n    \n\n\nvar JS_MIME_TYPE = 'application/javascript';\nvar HTML_MIME_TYPE = 'text/html';\nvar EXEC_MIME_TYPE = 'application/vnd.holoviews_exec.v0+json';\nvar CLASS_NAME = 'output';\n\n/**\n * Render data to the DOM node\n */\nfunction render(props, node) {\n  var div = document.createElement(\"div\");\n  var script = document.createElement(\"script\");\n  node.appendChild(div);\n  node.appendChild(script);\n}\n\n/**\n * Handle when a new output is added\n */\nfunction handle_add_output(event, handle) {\n  var output_area = handle.output_area;\n  var output = handle.output;\n  if ((output.data == undefined) || (!output.data.hasOwnProperty(EXEC_MIME_TYPE))) {\n    return\n  }\n  var id = output.metadata[EXEC_MIME_TYPE][\"id\"];\n  var toinsert = output_area.element.find(\".\" + CLASS_NAME.split(' ')[0]);\n  if (id !== undefined) {\n    var nchildren = toinsert.length;\n    var html_node = toinsert[nchildren-1].children[0];\n    html_node.innerHTML = output.data[HTML_MIME_TYPE];\n    var scripts = [];\n    var nodelist = html_node.querySelectorAll(\"script\");\n    for (var i in nodelist) {\n      if (nodelist.hasOwnProperty(i)) {\n        scripts.push(nodelist[i])\n      }\n    }\n\n    scripts.forEach( function (oldScript) {\n      var newScript = document.createElement(\"script\");\n      var attrs = [];\n      var nodemap = oldScript.attributes;\n      for (var j in nodemap) {\n        if (nodemap.hasOwnProperty(j)) {\n          attrs.push(nodemap[j])\n        }\n      }\n      attrs.forEach(function(attr) { newScript.setAttribute(attr.name, attr.value) });\n      newScript.appendChild(document.createTextNode(oldScript.innerHTML));\n      oldScript.parentNode.replaceChild(newScript, oldScript);\n    });\n    if (JS_MIME_TYPE in output.data) {\n      toinsert[nchildren-1].children[1].textContent = output.data[JS_MIME_TYPE];\n    }\n    output_area._hv_plot_id = id;\n    if ((window.Bokeh !== undefined) && (id in Bokeh.index)) {\n      window.PyViz.plot_index[id] = Bokeh.index[id];\n    } else {\n      window.PyViz.plot_index[id] = null;\n    }\n  } else if (output.metadata[EXEC_MIME_TYPE][\"server_id\"] !== undefined) {\n    var bk_div = document.createElement(\"div\");\n    bk_div.innerHTML = output.data[HTML_MIME_TYPE];\n    var script_attrs = bk_div.children[0].attributes;\n    for (var i = 0; i < script_attrs.length; i++) {\n      toinsert[toinsert.length - 1].childNodes[1].setAttribute(script_attrs[i].name, script_attrs[i].value);\n    }\n    // store reference to server id on output_area\n    output_area._bokeh_server_id = output.metadata[EXEC_MIME_TYPE][\"server_id\"];\n  }\n}\n\n/**\n * Handle when an output is cleared or removed\n */\nfunction handle_clear_output(event, handle) {\n  var id = handle.cell.output_area._hv_plot_id;\n  var server_id = handle.cell.output_area._bokeh_server_id;\n  if (((id === undefined) || !(id in PyViz.plot_index)) && (server_id !== undefined)) { return; }\n  var comm = window.PyViz.comm_manager.get_client_comm(\"hv-extension-comm\", \"hv-extension-comm\", function () {});\n  if (server_id !== null) {\n    comm.send({event_type: 'server_delete', 'id': server_id});\n    return;\n  } else if (comm !== null) {\n    comm.send({event_type: 'delete', 'id': id});\n  }\n  delete PyViz.plot_index[id];\n  if ((window.Bokeh !== undefined) & (id in window.Bokeh.index)) {\n    var doc = window.Bokeh.index[id].model.document\n    doc.clear();\n    const i = window.Bokeh.documents.indexOf(doc);\n    if (i > -1) {\n      window.Bokeh.documents.splice(i, 1);\n    }\n  }\n}\n\n/**\n * Handle kernel restart event\n */\nfunction handle_kernel_cleanup(event, handle) {\n  delete PyViz.comms[\"hv-extension-comm\"];\n  window.PyViz.plot_index = {}\n}\n\n/**\n * Handle update_display_data messages\n */\nfunction handle_update_output(event, handle) {\n  handle_clear_output(event, {cell: {output_area: handle.output_area}})\n  handle_add_output(event, handle)\n}\n\nfunction register_renderer(events, OutputArea) {\n  function append_mime(data, metadata, element) {\n    // create a DOM node to render to\n    var toinsert = this.create_output_subarea(\n    metadata,\n    CLASS_NAME,\n    EXEC_MIME_TYPE\n    );\n    this.keyboard_manager.register_events(toinsert);\n    // Render to node\n    var props = {data: data, metadata: metadata[EXEC_MIME_TYPE]};\n    render(props, toinsert[0]);\n    element.append(toinsert);\n    return toinsert\n  }\n\n  events.on('output_added.OutputArea', handle_add_output);\n  events.on('output_updated.OutputArea', handle_update_output);\n  events.on('clear_output.CodeCell', handle_clear_output);\n  events.on('delete.Cell', handle_clear_output);\n  events.on('kernel_ready.Kernel', handle_kernel_cleanup);\n\n  OutputArea.prototype.register_mime_type(EXEC_MIME_TYPE, append_mime, {\n    safe: true,\n    index: 0\n  });\n}\n\nif (window.Jupyter !== undefined) {\n  try {\n    var events = require('base/js/events');\n    var OutputArea = require('notebook/js/outputarea').OutputArea;\n    if (OutputArea.prototype.mime_types().indexOf(EXEC_MIME_TYPE) == -1) {\n      register_renderer(events, OutputArea);\n    }\n  } catch(err) {\n  }\n}\n",
            "application/vnd.holoviews_load.v0+json": ""
          },
          "metadata": {},
          "output_type": "display_data"
        },
        {
          "data": {},
          "metadata": {},
          "output_type": "display_data"
        },
        {
          "data": {
            "application/vnd.holoviews_exec.v0+json": "",
            "text/html": [
              "<div id='b9994c25-4220-4c97-9f1c-538137f694f4'>\n",
              "  <div id=\"ae3c424e-721f-4451-ba2a-946ef85bb87b\" data-root-id=\"b9994c25-4220-4c97-9f1c-538137f694f4\" style=\"display: contents;\"></div>\n",
              "</div>\n",
              "<script type=\"application/javascript\">(function(root) {\n",
              "  var docs_json = {\"8026070e-7cdd-4ee7-a77a-099d2a27c207\":{\"version\":\"3.7.3\",\"title\":\"Bokeh Application\",\"roots\":[{\"type\":\"object\",\"name\":\"panel.models.layout.Column\",\"id\":\"b9994c25-4220-4c97-9f1c-538137f694f4\",\"attributes\":{\"name\":\"Column00133\",\"stylesheets\":[\"\\n:host(.pn-loading):before, .pn-loading:before {\\n  background-color: #c3c3c3;\\n  mask-size: auto calc(min(50%, 400px));\\n  -webkit-mask-size: auto calc(min(50%, 400px));\\n}\",{\"type\":\"object\",\"name\":\"ImportedStyleSheet\",\"id\":\"41d9008c-4233-4f20-911b-6e764e0f18a8\",\"attributes\":{\"url\":\"https://cdn.holoviz.org/panel/1.6.3/dist/css/loading.css\"}},{\"type\":\"object\",\"name\":\"ImportedStyleSheet\",\"id\":\"d7d31add-3cc8-4deb-8498-fff4f2689bec\",\"attributes\":{\"url\":\"https://cdn.holoviz.org/panel/1.6.3/dist/css/listpanel.css\"}},{\"type\":\"object\",\"name\":\"ImportedStyleSheet\",\"id\":\"e4d4fb05-ce15-4883-b5ed-d8e3993e4e4f\",\"attributes\":{\"url\":\"https://cdn.holoviz.org/panel/1.6.3/dist/bundled/theme/default.css\"}},{\"type\":\"object\",\"name\":\"ImportedStyleSheet\",\"id\":\"968a1ca3-5d49-4ab8-b79b-8adee38b663c\",\"attributes\":{\"url\":\"https://cdn.holoviz.org/panel/1.6.3/dist/bundled/theme/native.css\"}}],\"margin\":0,\"align\":\"start\",\"children\":[{\"type\":\"object\",\"name\":\"Row\",\"id\":\"7cbfd8c0-d0bf-45a6-9528-f0c482b20074\",\"attributes\":{\"name\":\"Row00131\",\"stylesheets\":[\"\\n:host(.pn-loading):before, .pn-loading:before {\\n  background-color: #c3c3c3;\\n  mask-size: auto calc(min(50%, 400px));\\n  -webkit-mask-size: auto calc(min(50%, 400px));\\n}\",{\"id\":\"41d9008c-4233-4f20-911b-6e764e0f18a8\"},{\"id\":\"d7d31add-3cc8-4deb-8498-fff4f2689bec\"},{\"id\":\"e4d4fb05-ce15-4883-b5ed-d8e3993e4e4f\"},{\"id\":\"968a1ca3-5d49-4ab8-b79b-8adee38b663c\"}],\"margin\":0,\"align\":\"start\",\"children\":[{\"type\":\"object\",\"name\":\"panel.models.markup.HTML\",\"id\":\"09edd4e4-62ad-422f-a4ff-ca86839f8b8f\",\"attributes\":{\"css_classes\":[\"markdown\"],\"stylesheets\":[\"\\n:host(.pn-loading):before, .pn-loading:before {\\n  background-color: #c3c3c3;\\n  mask-size: auto calc(min(50%, 400px));\\n  -webkit-mask-size: auto calc(min(50%, 400px));\\n}\",{\"id\":\"41d9008c-4233-4f20-911b-6e764e0f18a8\"},{\"type\":\"object\",\"name\":\"ImportedStyleSheet\",\"id\":\"9b7b7c66-47a4-43b0-acca-bca20491424b\",\"attributes\":{\"url\":\"https://cdn.holoviz.org/panel/1.6.3/dist/css/markdown.css\"}},{\"id\":\"e4d4fb05-ce15-4883-b5ed-d8e3993e4e4f\"},{\"id\":\"968a1ca3-5d49-4ab8-b79b-8adee38b663c\"}],\"margin\":[5,10],\"align\":\"start\",\"text\":\"&lt;h1 id=&quot;qna_bot&quot;&gt;QnA_Bot &lt;a class=&quot;header-anchor&quot; href=&quot;#qna_bot&quot;&gt;\\u00b6&lt;/a&gt;&lt;/h1&gt;\\n\"}}]}},{\"type\":\"object\",\"name\":\"panel.models.tabs.Tabs\",\"id\":\"f8fc2eed-a6b8-4d71-a397-04c7fbb5fdec\",\"attributes\":{\"stylesheets\":[\"\\n:host(.pn-loading):before, .pn-loading:before {\\n  background-color: #c3c3c3;\\n  mask-size: auto calc(min(50%, 400px));\\n  -webkit-mask-size: auto calc(min(50%, 400px));\\n}\",{\"id\":\"41d9008c-4233-4f20-911b-6e764e0f18a8\"},{\"id\":\"e4d4fb05-ce15-4883-b5ed-d8e3993e4e4f\"},{\"id\":\"968a1ca3-5d49-4ab8-b79b-8adee38b663c\"}],\"margin\":0,\"align\":\"start\",\"tabs\":[{\"type\":\"object\",\"name\":\"TabPanel\",\"id\":\"c1bd4d7d-9b37-4197-bc85-d0f0dc6608e5\",\"attributes\":{\"name\":\"Column00128\",\"title\":\"Conversation\",\"child\":{\"type\":\"object\",\"name\":\"panel.models.layout.Column\",\"id\":\"6fbbd5fb-8b1c-4fc0-a500-6399be05aa2d\",\"attributes\":{\"name\":\"Column00128\",\"stylesheets\":[\"\\n:host(.pn-loading):before, .pn-loading:before {\\n  background-color: #c3c3c3;\\n  mask-size: auto calc(min(50%, 400px));\\n  -webkit-mask-size: auto calc(min(50%, 400px));\\n}\",{\"id\":\"41d9008c-4233-4f20-911b-6e764e0f18a8\"},{\"id\":\"d7d31add-3cc8-4deb-8498-fff4f2689bec\"},{\"id\":\"e4d4fb05-ce15-4883-b5ed-d8e3993e4e4f\"},{\"id\":\"968a1ca3-5d49-4ab8-b79b-8adee38b663c\"}],\"margin\":0,\"align\":\"start\",\"children\":[{\"type\":\"object\",\"name\":\"Row\",\"id\":\"7f058660-7852-4aba-a37b-81a0a14bdd32\",\"attributes\":{\"name\":\"Row00119\",\"stylesheets\":[\"\\n:host(.pn-loading):before, .pn-loading:before {\\n  background-color: #c3c3c3;\\n  mask-size: auto calc(min(50%, 400px));\\n  -webkit-mask-size: auto calc(min(50%, 400px));\\n}\",{\"id\":\"41d9008c-4233-4f20-911b-6e764e0f18a8\"},{\"id\":\"d7d31add-3cc8-4deb-8498-fff4f2689bec\"},{\"id\":\"e4d4fb05-ce15-4883-b5ed-d8e3993e4e4f\"},{\"id\":\"968a1ca3-5d49-4ab8-b79b-8adee38b663c\"}],\"margin\":0,\"align\":\"start\",\"children\":[{\"type\":\"object\",\"name\":\"panel.models.widgets.TextInput\",\"id\":\"d1aca936-67b2-4d73-aba8-84b6fc087f9d\",\"attributes\":{\"js_property_callbacks\":{\"type\":\"map\",\"entries\":[[\"change:value\",[{\"type\":\"object\",\"name\":\"CustomJS\",\"id\":\"30cafc55-440d-445f-8ac7-06614ef69882\",\"attributes\":{\"tags\":[[136862244495248,[null,\"value\"],[null,\"loading\"]]],\"args\":{\"type\":\"map\",\"entries\":[[\"bidirectional\",false],[\"properties\",{\"type\":\"map\",\"entries\":[[\"value\",\"loading\"]]}],[\"source\",{\"id\":\"d1aca936-67b2-4d73-aba8-84b6fc087f9d\"}],[\"target\",{\"type\":\"object\",\"name\":\"panel.models.layout.Column\",\"id\":\"2bcd9a83-888e-44d1-b0bd-0441b4792d25\",\"attributes\":{\"name\":\"Column00125\",\"stylesheets\":[\"\\n:host(.pn-loading):before, .pn-loading:before {\\n  background-color: #c3c3c3;\\n  mask-size: auto calc(min(50%, 400px));\\n  -webkit-mask-size: auto calc(min(50%, 400px));\\n}\",{\"id\":\"41d9008c-4233-4f20-911b-6e764e0f18a8\"},{\"id\":\"d7d31add-3cc8-4deb-8498-fff4f2689bec\"},{\"id\":\"e4d4fb05-ce15-4883-b5ed-d8e3993e4e4f\"},{\"id\":\"968a1ca3-5d49-4ab8-b79b-8adee38b663c\"}],\"height\":400,\"min_height\":400,\"margin\":0,\"align\":\"start\",\"children\":[{\"type\":\"object\",\"name\":\"panel.models.markup.HTML\",\"id\":\"79bb7272-d5c1-43ae-892a-285b77507a19\",\"attributes\":{\"stylesheets\":[\"\\n:host(.pn-loading):before, .pn-loading:before {\\n  background-color: #c3c3c3;\\n  mask-size: auto calc(min(50%, 400px));\\n  -webkit-mask-size: auto calc(min(50%, 400px));\\n}\",{\"id\":\"41d9008c-4233-4f20-911b-6e764e0f18a8\"},{\"id\":\"e4d4fb05-ce15-4883-b5ed-d8e3993e4e4f\"},{\"id\":\"968a1ca3-5d49-4ab8-b79b-8adee38b663c\"}],\"margin\":[5,10],\"align\":\"start\",\"text\":\"&lt;pre&gt; &lt;/pre&gt;\"}}]}}]]},\"code\":\"\\n    if ('value'.startsWith('event:')) {\\n      var value = true\\n    } else {\\n      var value = source['value'];\\n      value = value;\\n    }\\n    if (typeof value !== 'boolean' || source.labels !== ['Loading']) {\\n      value = true\\n    }\\n    var css_classes = target.css_classes.slice()\\n    var loading_css = ['pn-loading', 'pn-arc']\\n    if (value) {\\n      for (var css of loading_css) {\\n        if (!(css in css_classes)) {\\n          css_classes.push(css)\\n        }\\n      }\\n    } else {\\n     for (var css of loading_css) {\\n        var index = css_classes.indexOf(css)\\n        if (index > -1) {\\n          css_classes.splice(index, 1)\\n        }\\n      }\\n    }\\n    target['css_classes'] = css_classes\\n    \"}}]]]},\"subscribed_events\":{\"type\":\"set\",\"entries\":[\"enter-pressed\"]},\"stylesheets\":[\"\\n:host(.pn-loading):before, .pn-loading:before {\\n  background-color: #c3c3c3;\\n  mask-size: auto calc(min(50%, 400px));\\n  -webkit-mask-size: auto calc(min(50%, 400px));\\n}\",{\"id\":\"41d9008c-4233-4f20-911b-6e764e0f18a8\"},{\"id\":\"e4d4fb05-ce15-4883-b5ed-d8e3993e4e4f\"},{\"id\":\"968a1ca3-5d49-4ab8-b79b-8adee38b663c\"}],\"width\":300,\"min_width\":300,\"margin\":[5,10],\"align\":\"start\",\"placeholder\":\"Enter text here\\u2026\",\"max_length\":5000}}]}},{\"type\":\"object\",\"name\":\"Div\",\"id\":\"e12db77d-b7ba-4241-8455-31d9386a9415\",\"attributes\":{\"name\":\"Divider00120\",\"stylesheets\":[\"\\n:host(.pn-loading):before, .pn-loading:before {\\n  background-color: #c3c3c3;\\n  mask-size: auto calc(min(50%, 400px));\\n  -webkit-mask-size: auto calc(min(50%, 400px));\\n}\",{\"type\":\"object\",\"name\":\"ImportedStyleSheet\",\"id\":\"4bc2557a-384b-4d17-954b-688ad8da79eb\",\"attributes\":{\"url\":\"https://cdn.holoviz.org/panel/1.6.3/dist/css/loading.css\"}},{\"type\":\"object\",\"name\":\"ImportedStyleSheet\",\"id\":\"abb68a1c-e357-4fe5-a065-bc8cf15838eb\",\"attributes\":{\"url\":\"https://cdn.holoviz.org/panel/1.6.3/dist/css/divider.css\"}}],\"margin\":0,\"width_policy\":\"fit\",\"align\":\"start\",\"text\":\"<hr>\"}},{\"id\":\"2bcd9a83-888e-44d1-b0bd-0441b4792d25\"},{\"type\":\"object\",\"name\":\"Div\",\"id\":\"e807b3f1-07db-4efb-9fe4-aa716588b06d\",\"attributes\":{\"name\":\"Divider00127\",\"stylesheets\":[\"\\n:host(.pn-loading):before, .pn-loading:before {\\n  background-color: #c3c3c3;\\n  mask-size: auto calc(min(50%, 400px));\\n  -webkit-mask-size: auto calc(min(50%, 400px));\\n}\",{\"type\":\"object\",\"name\":\"ImportedStyleSheet\",\"id\":\"befc04c8-8e43-4909-bb43-1b75e46a1ab9\",\"attributes\":{\"url\":\"https://cdn.holoviz.org/panel/1.6.3/dist/css/loading.css\"}},{\"type\":\"object\",\"name\":\"ImportedStyleSheet\",\"id\":\"6b20d576-156f-4b28-a848-6b2fa7be29ff\",\"attributes\":{\"url\":\"https://cdn.holoviz.org/panel/1.6.3/dist/css/divider.css\"}}],\"margin\":0,\"width_policy\":\"fit\",\"align\":\"start\",\"text\":\"<hr>\"}}]}}}}]}}]}},{\"type\":\"object\",\"name\":\"panel.models.comm_manager.CommManager\",\"id\":\"ba50b9a6-b83a-4851-8886-88764d690c79\",\"attributes\":{\"plot_id\":\"b9994c25-4220-4c97-9f1c-538137f694f4\",\"comm_id\":\"e71a12f516ef418db46476babbd6bc38\",\"client_comm_id\":\"0b94999285d64530b97606eb37bf572b\"}}],\"defs\":[{\"type\":\"model\",\"name\":\"ReactiveHTML1\"},{\"type\":\"model\",\"name\":\"FlexBox1\",\"properties\":[{\"name\":\"align_content\",\"kind\":\"Any\",\"default\":\"flex-start\"},{\"name\":\"align_items\",\"kind\":\"Any\",\"default\":\"flex-start\"},{\"name\":\"flex_direction\",\"kind\":\"Any\",\"default\":\"row\"},{\"name\":\"flex_wrap\",\"kind\":\"Any\",\"default\":\"wrap\"},{\"name\":\"gap\",\"kind\":\"Any\",\"default\":\"\"},{\"name\":\"justify_content\",\"kind\":\"Any\",\"default\":\"flex-start\"}]},{\"type\":\"model\",\"name\":\"FloatPanel1\",\"properties\":[{\"name\":\"config\",\"kind\":\"Any\",\"default\":{\"type\":\"map\"}},{\"name\":\"contained\",\"kind\":\"Any\",\"default\":true},{\"name\":\"position\",\"kind\":\"Any\",\"default\":\"right-top\"},{\"name\":\"offsetx\",\"kind\":\"Any\",\"default\":null},{\"name\":\"offsety\",\"kind\":\"Any\",\"default\":null},{\"name\":\"theme\",\"kind\":\"Any\",\"default\":\"primary\"},{\"name\":\"status\",\"kind\":\"Any\",\"default\":\"normalized\"}]},{\"type\":\"model\",\"name\":\"GridStack1\",\"properties\":[{\"name\":\"ncols\",\"kind\":\"Any\",\"default\":null},{\"name\":\"nrows\",\"kind\":\"Any\",\"default\":null},{\"name\":\"allow_resize\",\"kind\":\"Any\",\"default\":true},{\"name\":\"allow_drag\",\"kind\":\"Any\",\"default\":true},{\"name\":\"state\",\"kind\":\"Any\",\"default\":[]}]},{\"type\":\"model\",\"name\":\"drag1\",\"properties\":[{\"name\":\"slider_width\",\"kind\":\"Any\",\"default\":5},{\"name\":\"slider_color\",\"kind\":\"Any\",\"default\":\"black\"},{\"name\":\"value\",\"kind\":\"Any\",\"default\":50}]},{\"type\":\"model\",\"name\":\"click1\",\"properties\":[{\"name\":\"terminal_output\",\"kind\":\"Any\",\"default\":\"\"},{\"name\":\"debug_name\",\"kind\":\"Any\",\"default\":\"\"},{\"name\":\"clears\",\"kind\":\"Any\",\"default\":0}]},{\"type\":\"model\",\"name\":\"FastWrapper1\",\"properties\":[{\"name\":\"object\",\"kind\":\"Any\",\"default\":null},{\"name\":\"style\",\"kind\":\"Any\",\"default\":null}]},{\"type\":\"model\",\"name\":\"NotificationArea1\",\"properties\":[{\"name\":\"js_events\",\"kind\":\"Any\",\"default\":{\"type\":\"map\"}},{\"name\":\"max_notifications\",\"kind\":\"Any\",\"default\":5},{\"name\":\"notifications\",\"kind\":\"Any\",\"default\":[]},{\"name\":\"position\",\"kind\":\"Any\",\"default\":\"bottom-right\"},{\"name\":\"_clear\",\"kind\":\"Any\",\"default\":0},{\"name\":\"types\",\"kind\":\"Any\",\"default\":[{\"type\":\"map\",\"entries\":[[\"type\",\"warning\"],[\"background\",\"#ffc107\"],[\"icon\",{\"type\":\"map\",\"entries\":[[\"className\",\"fas fa-exclamation-triangle\"],[\"tagName\",\"i\"],[\"color\",\"white\"]]}]]},{\"type\":\"map\",\"entries\":[[\"type\",\"info\"],[\"background\",\"#007bff\"],[\"icon\",{\"type\":\"map\",\"entries\":[[\"className\",\"fas fa-info-circle\"],[\"tagName\",\"i\"],[\"color\",\"white\"]]}]]}]}]},{\"type\":\"model\",\"name\":\"Notification\",\"properties\":[{\"name\":\"background\",\"kind\":\"Any\",\"default\":null},{\"name\":\"duration\",\"kind\":\"Any\",\"default\":3000},{\"name\":\"icon\",\"kind\":\"Any\",\"default\":null},{\"name\":\"message\",\"kind\":\"Any\",\"default\":\"\"},{\"name\":\"notification_type\",\"kind\":\"Any\",\"default\":null},{\"name\":\"_rendered\",\"kind\":\"Any\",\"default\":false},{\"name\":\"_destroyed\",\"kind\":\"Any\",\"default\":false}]},{\"type\":\"model\",\"name\":\"TemplateActions1\",\"properties\":[{\"name\":\"open_modal\",\"kind\":\"Any\",\"default\":0},{\"name\":\"close_modal\",\"kind\":\"Any\",\"default\":0}]},{\"type\":\"model\",\"name\":\"BootstrapTemplateActions1\",\"properties\":[{\"name\":\"open_modal\",\"kind\":\"Any\",\"default\":0},{\"name\":\"close_modal\",\"kind\":\"Any\",\"default\":0}]},{\"type\":\"model\",\"name\":\"TemplateEditor1\",\"properties\":[{\"name\":\"layout\",\"kind\":\"Any\",\"default\":[]}]},{\"type\":\"model\",\"name\":\"MaterialTemplateActions1\",\"properties\":[{\"name\":\"open_modal\",\"kind\":\"Any\",\"default\":0},{\"name\":\"close_modal\",\"kind\":\"Any\",\"default\":0}]},{\"type\":\"model\",\"name\":\"ReactiveESM1\",\"properties\":[{\"name\":\"esm_constants\",\"kind\":\"Any\",\"default\":{\"type\":\"map\"}}]},{\"type\":\"model\",\"name\":\"JSComponent1\",\"properties\":[{\"name\":\"esm_constants\",\"kind\":\"Any\",\"default\":{\"type\":\"map\"}}]},{\"type\":\"model\",\"name\":\"ReactComponent1\",\"properties\":[{\"name\":\"esm_constants\",\"kind\":\"Any\",\"default\":{\"type\":\"map\"}}]},{\"type\":\"model\",\"name\":\"AnyWidgetComponent1\",\"properties\":[{\"name\":\"esm_constants\",\"kind\":\"Any\",\"default\":{\"type\":\"map\"}}]},{\"type\":\"model\",\"name\":\"request_value1\",\"properties\":[{\"name\":\"fill\",\"kind\":\"Any\",\"default\":\"none\"},{\"name\":\"_synced\",\"kind\":\"Any\",\"default\":null},{\"name\":\"_request_sync\",\"kind\":\"Any\",\"default\":0}]}]}};\n",
              "  var render_items = [{\"docid\":\"8026070e-7cdd-4ee7-a77a-099d2a27c207\",\"roots\":{\"b9994c25-4220-4c97-9f1c-538137f694f4\":\"ae3c424e-721f-4451-ba2a-946ef85bb87b\"},\"root_ids\":[\"b9994c25-4220-4c97-9f1c-538137f694f4\"]}];\n",
              "  var docs = Object.values(docs_json)\n",
              "  if (!docs) {\n",
              "    return\n",
              "  }\n",
              "  const py_version = docs[0].version.replace('rc', '-rc.').replace('.dev', '-dev.')\n",
              "  async function embed_document(root) {\n",
              "    var Bokeh = get_bokeh(root)\n",
              "    await Bokeh.embed.embed_items_notebook(docs_json, render_items);\n",
              "    for (const render_item of render_items) {\n",
              "      for (const root_id of render_item.root_ids) {\n",
              "\tconst id_el = document.getElementById(root_id)\n",
              "\tif (id_el.children.length && id_el.children[0].hasAttribute('data-root-id')) {\n",
              "\t  const root_el = id_el.children[0]\n",
              "\t  root_el.id = root_el.id + '-rendered'\n",
              "\t  for (const child of root_el.children) {\n",
              "            // Ensure JupyterLab does not capture keyboard shortcuts\n",
              "            // see: https://jupyterlab.readthedocs.io/en/4.1.x/extension/notebook.html#keyboard-interaction-model\n",
              "\t    child.setAttribute('data-lm-suppress-shortcuts', 'true')\n",
              "\t  }\n",
              "\t}\n",
              "      }\n",
              "    }\n",
              "  }\n",
              "  function get_bokeh(root) {\n",
              "    if (root.Bokeh === undefined) {\n",
              "      return null\n",
              "    } else if (root.Bokeh.version !== py_version) {\n",
              "      if (root.Bokeh.versions === undefined || !root.Bokeh.versions.has(py_version)) {\n",
              "\treturn null\n",
              "      }\n",
              "      return root.Bokeh.versions.get(py_version);\n",
              "    } else if (root.Bokeh.version === py_version) {\n",
              "      return root.Bokeh\n",
              "    }\n",
              "    return null\n",
              "  }\n",
              "  function is_loaded(root) {\n",
              "    var Bokeh = get_bokeh(root)\n",
              "    return (Bokeh != null && Bokeh.Panel !== undefined)\n",
              "  }\n",
              "  if (is_loaded(root)) {\n",
              "    embed_document(root);\n",
              "  } else {\n",
              "    var attempts = 0;\n",
              "    var timer = setInterval(function(root) {\n",
              "      if (is_loaded(root)) {\n",
              "        clearInterval(timer);\n",
              "        embed_document(root);\n",
              "      } else if (document.readyState == \"complete\") {\n",
              "        attempts++;\n",
              "        if (attempts > 200) {\n",
              "          clearInterval(timer);\n",
              "\t  var Bokeh = get_bokeh(root)\n",
              "\t  if (Bokeh == null || Bokeh.Panel == null) {\n",
              "            console.warn(\"Panel: ERROR: Unable to run Panel code because Bokeh or Panel library is missing\");\n",
              "\t  } else {\n",
              "\t    console.warn(\"Panel: WARNING: Attempting to render but not all required libraries could be resolved.\")\n",
              "\t    embed_document(root)\n",
              "\t  }\n",
              "        }\n",
              "      }\n",
              "    }, 25, root)\n",
              "  }\n",
              "})(window);</script>"
            ],
            "text/plain": [
              "Column\n",
              "    [0] Row\n",
              "        [0] Markdown(str)\n",
              "    [1] Tabs\n",
              "        [0] Column\n",
              "            [0] Row\n",
              "                [0] TextInput(placeholder='Enter text here…')\n",
              "            [1] Divider()\n",
              "            [2] ParamFunction(function, _pane=Str, defer_load=False, height=400, loading_indicator=True)\n",
              "            [3] Divider()"
            ]
          },
          "execution_count": 74,
          "metadata": {
            "application/vnd.holoviews_exec.v0+json": {
              "id": "b9994c25-4220-4c97-9f1c-538137f694f4"
            }
          },
          "output_type": "execute_result"
        },
        {
          "name": "stderr",
          "output_type": "stream",
          "text": [
            "BokehUserWarning: reference already known '3f6bed50-0cf3-4b17-b1ef-ec5f2619f727'\n",
            "BokehUserWarning: reference already known '9fbf503e-149e-4a4a-8b4f-438f62717076'\n",
            "BokehUserWarning: reference already known 'b4ec5d22-df7a-41dd-9e09-4edf90a086ee'\n"
          ]
        }
      ],
      "source": [
        "cb = WesleySafa(tools)\n",
        "\n",
        "inp = pn.widgets.TextInput( placeholder='Enter text here…')\n",
        "\n",
        "conversation = pn.bind(cb.convchain, inp)\n",
        "\n",
        "tab1 = pn.Column(\n",
        "    pn.Row(inp),\n",
        "    pn.layout.Divider(),\n",
        "    pn.panel(conversation, loading_indicator=True, height=400),\n",
        "    pn.layout.Divider(),\n",
        ")\n",
        "\n",
        "dashboard = pn.Column(\n",
        "    pn.Row(pn.pane.Markdown('# QnA_Bot')),\n",
        "    pn.Tabs(('Conversation', tab1))\n",
        ")\n",
        "dashboard"
      ]
    },
    {
      "cell_type": "code",
      "execution_count": null,
      "metadata": {
        "colab": {
          "base_uri": "https://localhost:8080/"
        },
        "id": "Dg4f_CZtk2xE",
        "outputId": "78a09b8d-3fd5-4ed5-8ac8-44c7b4ebe1a9"
      },
      "outputs": [
        {
          "name": "stdout",
          "output_type": "stream",
          "text": [
            "   id             name nickname  phone_number                 email\n",
            "0   1  Ana Maria Braga   MaisVC  +12124567890    anamaria@globo.com\n",
            "1   2     Fausto Silva  Faustao   +4530770800      fausto@globo.com\n",
            "2   4  Thammy Gretchen  Carluxa  +13105867367     tammy@example.com\n",
            "3   6          Ronaldo       R9  +15575867367   fifathebest@uol.com\n",
            "4   8     Rony Rustico     Rony   +4538711490  rony.rustico@uol.com\n",
            "5   9       José Celso       zé   +4538770890       zecelso@uol.com\n"
          ]
        }
      ],
      "source": [
        "print_contacts()"
      ]
    }
  ],
  "metadata": {
    "colab": {
      "provenance": []
    },
    "kernelspec": {
      "display_name": "Python 3",
      "name": "python3"
    },
    "language_info": {
      "name": "python"
    }
  },
  "nbformat": 4,
  "nbformat_minor": 0
}
